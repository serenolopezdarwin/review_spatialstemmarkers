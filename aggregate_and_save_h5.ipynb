{
 "cells": [
  {
   "cell_type": "code",
   "execution_count": 97,
   "id": "b025dc26-b507-4bee-aff8-81003b97e966",
   "metadata": {
    "jupyter": {
     "source_hidden": true
    }
   },
   "outputs": [],
   "source": [
    "# Imports\n",
    "import csv\n",
    "import glob2\n",
    "import matplotlib.pyplot as plt\n",
    "import numpy as np\n",
    "import scanpy as sc\n",
    "import squidpy as sq\n",
    "import warnings\n",
    "from anndata import AnnData"
   ]
  },
  {
   "cell_type": "code",
   "execution_count": 1,
   "id": "dfd17707-8a3e-4782-a4d2-f2df7b91a7c8",
   "metadata": {
    "jupyter": {
     "source_hidden": true
    }
   },
   "outputs": [],
   "source": [
    "# Globals\n",
    "PRJ_DIR = \"/scratch/gpfs/KANG/sereno/spatialstem\"\n",
    "SRC_DIR = f\"{PRJ_DIR}/sourcefiles\"\n",
    "RAW_DIR = f\"{SRC_DIR}/raw\"\n",
    "HAD_DIR = f\"{SRC_DIR}/h5ad\"\n",
    "INT_DIR = f\"{PRJ_DIR}/intermediates\"\n",
    "FIG_DIR = f\"{PRJ_DIR}/figs\""
   ]
  },
  {
   "cell_type": "code",
   "execution_count": 24,
   "id": "992d862a-49f6-4c4b-b712-78b3272c3554",
   "metadata": {
    "jupyter": {
     "source_hidden": true
    }
   },
   "outputs": [],
   "source": [
    "# Dann: Mapping the developing human immune system across organs\n",
    "dann_dir = f\"{RAW_DIR}/pub1_dann\"\n",
    "dann_paths = glob2.glob(f\"{dann_dir}/*\")\n",
    "# Already formatted..."
   ]
  },
  {
   "cell_type": "code",
   "execution_count": 53,
   "id": "9c605721-a0e8-4bb6-ac8e-41e7c9c9f762",
   "metadata": {
    "collapsed": true,
    "jupyter": {
     "outputs_hidden": true,
     "source_hidden": true
    }
   },
   "outputs": [
    {
     "name": "stdout",
     "output_type": "stream",
     "text": [
      "Written: /scratch/gpfs/KANG/sereno/spatialstem/sourcefiles/h5ad/p2_largeintestine1.h5ad\n",
      "Written: /scratch/gpfs/KANG/sereno/spatialstem/sourcefiles/h5ad/p2_largeintestine2.h5ad\n",
      "Written: /scratch/gpfs/KANG/sereno/spatialstem/sourcefiles/h5ad/p2_smallintestine1.h5ad\n",
      "Written: /scratch/gpfs/KANG/sereno/spatialstem/sourcefiles/h5ad/p2_smallintestine2.h5ad\n"
     ]
    }
   ],
   "source": [
    "# Niec: Lymphatics act as a signaling hub to regulate intestinal stem cell activity\n",
    "niec_dir = f\"{RAW_DIR}/pub2_niec\"\n",
    "niec_paths = glob2.glob(f\"{niec_dir}/*\")\n",
    "niec_paths.sort()\n",
    "niec_labels = [\"largeintestine1\", \"largeintestine2\", \"smallintestine1\", \"smallintestine2\"]\n",
    "for niec_path, niec_label in zip(niec_paths, niec_labels):\n",
    "    # Will warn you that your variable names aren't unique, fixed below.\n",
    "    with warnings.catch_warnings(action=\"ignore\"):\n",
    "        visium_in = sc.read_visium(niec_path)\n",
    "    visium_in.var_names_make_unique()\n",
    "    h5_out_path = f\"{HAD_DIR}/p2_{niec_label}.h5ad\"\n",
    "    visium_in.write_h5ad(h5_out_path)\n",
    "    print(f\"Written: {h5_out_path}\")"
   ]
  },
  {
   "cell_type": "code",
   "execution_count": 49,
   "id": "55f2e939-b6c0-4add-b033-e464b439b3ee",
   "metadata": {
    "collapsed": true,
    "jupyter": {
     "outputs_hidden": true,
     "source_hidden": true
    }
   },
   "outputs": [
    {
     "name": "stdout",
     "output_type": "stream",
     "text": [
      "['/scratch/gpfs/KANG/sereno/spatialstem/sourcefiles/raw/pub3_calvanese/HM-1', '/scratch/gpfs/KANG/sereno/spatialstem/sourcefiles/raw/pub3_calvanese/HM-2', '/scratch/gpfs/KANG/sereno/spatialstem/sourcefiles/raw/pub3_calvanese/HM-4', '/scratch/gpfs/KANG/sereno/spatialstem/sourcefiles/raw/pub3_calvanese/HM-5', '/scratch/gpfs/KANG/sereno/spatialstem/sourcefiles/raw/pub3_calvanese/HM-6', '/scratch/gpfs/KANG/sereno/spatialstem/sourcefiles/raw/pub3_calvanese/HM-7', '/scratch/gpfs/KANG/sereno/spatialstem/sourcefiles/raw/pub3_calvanese/HM-8']\n"
     ]
    }
   ],
   "source": [
    "# Calvanese: Mapping human hematopoietic stem cells from hemogenic endothelium to birth\n",
    "calv_dir = f\"{RAW_DIR}/pub3_calvanese\"\n",
    "calv_paths = glob2.glob(f\"{calv_dir}/*\")\n",
    "calv_paths.sort()\n",
    "for idx, calv_path in enumerate(calv_paths):\n",
    "    with warnings.catch_warnings(action=\"ignore\"):\n",
    "        visium_in = sc.read_visium(calv_path)\n",
    "    visium_in.var_names_make_unique()\n",
    "    h5_out_path = f\"{HAD_DIR}/p3_hsc{idx+1}.h5ad\"\n",
    "    visium_in.write_h5ad(h5_out_path)\n",
    "    print(f\"Written: {h5_out_path}\")"
   ]
  },
  {
   "cell_type": "code",
   "execution_count": 90,
   "id": "a18168b1-cabb-407e-bd8e-97ba1e2e8c31",
   "metadata": {
    "collapsed": true,
    "jupyter": {
     "outputs_hidden": true
    }
   },
   "outputs": [
    {
     "name": "stdout",
     "output_type": "stream",
     "text": [
      "Written: /scratch/gpfs/KANG/sereno/spatialstem/sourcefiles/h5ad/p4_caD0IR1.h5ad\n",
      "Written: /scratch/gpfs/KANG/sereno/spatialstem/sourcefiles/h5ad/p4_caD0IR2.h5ad\n",
      "Written: /scratch/gpfs/KANG/sereno/spatialstem/sourcefiles/h5ad/p4_caD14E1.h5ad\n",
      "Written: /scratch/gpfs/KANG/sereno/spatialstem/sourcefiles/h5ad/p4_caD14M1.h5ad\n",
      "Written: /scratch/gpfs/KANG/sereno/spatialstem/sourcefiles/h5ad/p4_caD14M2.h5ad\n",
      "Written: /scratch/gpfs/KANG/sereno/spatialstem/sourcefiles/h5ad/p4_caD7E1.h5ad\n",
      "Written: /scratch/gpfs/KANG/sereno/spatialstem/sourcefiles/h5ad/p4_caD7M1.h5ad\n",
      "Written: /scratch/gpfs/KANG/sereno/spatialstem/sourcefiles/h5ad/p4_caD7M2.h5ad\n",
      "Written: /scratch/gpfs/KANG/sereno/spatialstem/sourcefiles/h5ad/p4_mmD141.h5ad\n",
      "Written: /scratch/gpfs/KANG/sereno/spatialstem/sourcefiles/h5ad/p4_mmD142.h5ad\n",
      "Written: /scratch/gpfs/KANG/sereno/spatialstem/sourcefiles/h5ad/p4_mmITD1.h5ad\n",
      "Written: /scratch/gpfs/KANG/sereno/spatialstem/sourcefiles/h5ad/p4_mmITD2.h5ad\n",
      "Written: /scratch/gpfs/KANG/sereno/spatialstem/sourcefiles/h5ad/p4_mmITD3.h5ad\n",
      "Written: /scratch/gpfs/KANG/sereno/spatialstem/sourcefiles/h5ad/p4_mmITD4.h5ad\n",
      "Written: /scratch/gpfs/KANG/sereno/spatialstem/sourcefiles/h5ad/p4_mmPBS1.h5ad\n",
      "Written: /scratch/gpfs/KANG/sereno/spatialstem/sourcefiles/h5ad/p4_mmPBS2.h5ad\n",
      "Written: /scratch/gpfs/KANG/sereno/spatialstem/sourcefiles/h5ad/p4_mmPBS3.h5ad\n",
      "Written: /scratch/gpfs/KANG/sereno/spatialstem/sourcefiles/h5ad/p4_mmPBS4.h5ad\n"
     ]
    }
   ],
   "source": [
    "# Larouche: Spatiotemporal mapping of immune and stem cell dysregulation after volumetric muscle loss\n",
    "laro_dir = f\"{RAW_DIR}/pub4_larouche\"\n",
    "laro_paths_raw = glob2.glob(f\"{laro_dir}/*\")\n",
    "# Filters out raw RDS objects\n",
    "laro_paths = [path for path in laro_paths_raw if 'GSE205707' not in path]\n",
    "laro_paths.sort()\n",
    "for laro_path in laro_paths:\n",
    "    laro_lab = laro_path.split(\"/\")[-1]\n",
    "    visium_in = sc.read_10x_mtx(laro_path)\n",
    "    coords_in = np.genfromtxt(f\"{laro_path}/coords.csv\", delimiter=\",\", dtype=\"int64\")\n",
    "    visium_in.obsm[\"spatial\"] = coords_in\n",
    "    h5_out_path = f\"{HAD_DIR}/p4_{laro_lab}.h5ad\"\n",
    "    visium_in.write_h5ad(h5_out_path)\n",
    "    print(f\"Written: {h5_out_path}\")"
   ]
  },
  {
   "cell_type": "code",
   "execution_count": 122,
   "id": "f42881a0-6c9e-4719-818d-ccbcc2d345d2",
   "metadata": {},
   "outputs": [
    {
     "name": "stdout",
     "output_type": "stream",
     "text": [
      "['/scratch/gpfs/KANG/sereno/spatialstem/sourcefiles/raw/pub5_shani/Visium_24h_m1_raw_feature_bc_matrix.h5', '/scratch/gpfs/KANG/sereno/spatialstem/sourcefiles/raw/pub5_shani/Visium_24h_m2_raw_feature_bc_matrix.h5', '/scratch/gpfs/KANG/sereno/spatialstem/sourcefiles/raw/pub5_shani/Visium_48h_m4_raw_feature_bc_matrix.h5', '/scratch/gpfs/KANG/sereno/spatialstem/sourcefiles/raw/pub5_shani/Visium_48h_m5_raw_feature_bc_matrix.h5', '/scratch/gpfs/KANG/sereno/spatialstem/sourcefiles/raw/pub5_shani/Visium_72h_m1_raw_feature_bc_matrix.h5', '/scratch/gpfs/KANG/sereno/spatialstem/sourcefiles/raw/pub5_shani/Visium_72h_m2_raw_feature_bc_matrix.h5']\n"
     ]
    }
   ],
   "source": [
    "# Shani: The spatio-temporal program of liver zonal regeneration\n",
    "shan_dir = f\"{RAW_DIR}/pub5_shani\"\n",
    "shan_paths = glob2.glob(f\"{shan_dir}/*.h5\")\n",
    "shan_paths.sort()\n",
    "print(shan_paths)\n",
    "# Read metadata to get visium coords\n",
    "visium_meta_dict = {}\n",
    "with open(f'{shan_dir}/Visium_Meta_data.txt', mode ='r')as meta_file:\n",
    "    shan_meta = csv.reader(meta_file)\n",
    "    next(shan_meta)\n",
    "    for line in shan_meta:\n",
    "        sample = line[1].replace(\"t_\", \"\")\n",
    "        x_coord = np.int64(line[4])\n",
    "        y_coord = np.int64(line[5])\n",
    "        coords = [x_coord, y_coord]\n",
    "        if sample not in visium_meta_dict:\n",
    "            visium_meta_dict[sample] = []\n",
    "        visium_meta_dict[sample].append(coords)"
   ]
  },
  {
   "cell_type": "code",
   "execution_count": 134,
   "id": "509e05ae-7753-4d10-9aea-909b123efa91",
   "metadata": {
    "collapsed": true,
    "jupyter": {
     "outputs_hidden": true
    }
   },
   "outputs": [
    {
     "ename": "ValueError",
     "evalue": "Value passed for key 'spatial' is of incorrect shape. Values of obsm must match dimensions ('obs',) of parent. Value had shape (3075,) while it should have had (4992,).",
     "output_type": "error",
     "traceback": [
      "\u001b[0;31m---------------------------------------------------------------------------\u001b[0m",
      "\u001b[0;31mValueError\u001b[0m                                Traceback (most recent call last)",
      "Cell \u001b[0;32mIn[134], line 9\u001b[0m\n\u001b[1;32m      7\u001b[0m visium_in\u001b[38;5;241m.\u001b[39mvar_names_make_unique()\n\u001b[1;32m      8\u001b[0m coords \u001b[38;5;241m=\u001b[39m np\u001b[38;5;241m.\u001b[39masarray(visium_meta_dict[shan_lab])\n\u001b[0;32m----> 9\u001b[0m \u001b[43mvisium_in\u001b[49m\u001b[38;5;241;43m.\u001b[39;49m\u001b[43mobsm\u001b[49m\u001b[43m[\u001b[49m\u001b[38;5;124;43m\"\u001b[39;49m\u001b[38;5;124;43mspatial\u001b[39;49m\u001b[38;5;124;43m\"\u001b[39;49m\u001b[43m]\u001b[49m \u001b[38;5;241m=\u001b[39m coords\n\u001b[1;32m     10\u001b[0m h5_out_path \u001b[38;5;241m=\u001b[39m \u001b[38;5;124mf\u001b[39m\u001b[38;5;124m\"\u001b[39m\u001b[38;5;132;01m{\u001b[39;00mHAD_DIR\u001b[38;5;132;01m}\u001b[39;00m\u001b[38;5;124m/p5_\u001b[39m\u001b[38;5;132;01m{\u001b[39;00mshan_lab\u001b[38;5;132;01m}\u001b[39;00m\u001b[38;5;124m.h5ad\u001b[39m\u001b[38;5;124m\"\u001b[39m\n\u001b[1;32m     11\u001b[0m \u001b[38;5;66;03m# visium_in.write_h5ad(h5_out_path)\u001b[39;00m\n",
      "File \u001b[0;32m/scratch/gpfs/KANG/sereno/mamba/miniforge/envs/spatialstem/lib/python3.11/site-packages/anndata/_core/aligned_mapping.py:199\u001b[0m, in \u001b[0;36mAlignedActualMixin.__setitem__\u001b[0;34m(self, key, value)\u001b[0m\n\u001b[1;32m    198\u001b[0m \u001b[38;5;28;01mdef\u001b[39;00m \u001b[38;5;21m__setitem__\u001b[39m(\u001b[38;5;28mself\u001b[39m, key: \u001b[38;5;28mstr\u001b[39m, value: V):\n\u001b[0;32m--> 199\u001b[0m     value \u001b[38;5;241m=\u001b[39m \u001b[38;5;28;43mself\u001b[39;49m\u001b[38;5;241;43m.\u001b[39;49m\u001b[43m_validate_value\u001b[49m\u001b[43m(\u001b[49m\u001b[43mvalue\u001b[49m\u001b[43m,\u001b[49m\u001b[43m \u001b[49m\u001b[43mkey\u001b[49m\u001b[43m)\u001b[49m\n\u001b[1;32m    200\u001b[0m     \u001b[38;5;28mself\u001b[39m\u001b[38;5;241m.\u001b[39m_data[key] \u001b[38;5;241m=\u001b[39m value\n",
      "File \u001b[0;32m/scratch/gpfs/KANG/sereno/mamba/miniforge/envs/spatialstem/lib/python3.11/site-packages/anndata/_core/aligned_mapping.py:268\u001b[0m, in \u001b[0;36mAxisArraysBase._validate_value\u001b[0;34m(self, val, key)\u001b[0m\n\u001b[1;32m    266\u001b[0m         msg \u001b[38;5;241m=\u001b[39m \u001b[38;5;124m\"\u001b[39m\u001b[38;5;124mIndex.equals and pd.testing.assert_index_equal disagree\u001b[39m\u001b[38;5;124m\"\u001b[39m\n\u001b[1;32m    267\u001b[0m         \u001b[38;5;28;01mraise\u001b[39;00m \u001b[38;5;167;01mAssertionError\u001b[39;00m(msg)\n\u001b[0;32m--> 268\u001b[0m \u001b[38;5;28;01mreturn\u001b[39;00m \u001b[38;5;28;43msuper\u001b[39;49m\u001b[43m(\u001b[49m\u001b[43m)\u001b[49m\u001b[38;5;241;43m.\u001b[39;49m\u001b[43m_validate_value\u001b[49m\u001b[43m(\u001b[49m\u001b[43mval\u001b[49m\u001b[43m,\u001b[49m\u001b[43m \u001b[49m\u001b[43mkey\u001b[49m\u001b[43m)\u001b[49m\n",
      "File \u001b[0;32m/scratch/gpfs/KANG/sereno/mamba/miniforge/envs/spatialstem/lib/python3.11/site-packages/anndata/_core/aligned_mapping.py:89\u001b[0m, in \u001b[0;36mAlignedMapping._validate_value\u001b[0;34m(self, val, key)\u001b[0m\n\u001b[1;32m     83\u001b[0m         dims \u001b[38;5;241m=\u001b[39m \u001b[38;5;28mtuple\u001b[39m((\u001b[38;5;124m\"\u001b[39m\u001b[38;5;124mobs\u001b[39m\u001b[38;5;124m\"\u001b[39m, \u001b[38;5;124m\"\u001b[39m\u001b[38;5;124mvar\u001b[39m\u001b[38;5;124m\"\u001b[39m)[ax] \u001b[38;5;28;01mfor\u001b[39;00m ax \u001b[38;5;129;01min\u001b[39;00m \u001b[38;5;28mself\u001b[39m\u001b[38;5;241m.\u001b[39maxes)\n\u001b[1;32m     84\u001b[0m         msg \u001b[38;5;241m=\u001b[39m (\n\u001b[1;32m     85\u001b[0m             \u001b[38;5;124mf\u001b[39m\u001b[38;5;124m\"\u001b[39m\u001b[38;5;124mValue passed for key \u001b[39m\u001b[38;5;132;01m{\u001b[39;00mkey\u001b[38;5;132;01m!r}\u001b[39;00m\u001b[38;5;124m is of incorrect shape. \u001b[39m\u001b[38;5;124m\"\u001b[39m\n\u001b[1;32m     86\u001b[0m             \u001b[38;5;124mf\u001b[39m\u001b[38;5;124m\"\u001b[39m\u001b[38;5;124mValues of \u001b[39m\u001b[38;5;132;01m{\u001b[39;00m\u001b[38;5;28mself\u001b[39m\u001b[38;5;241m.\u001b[39mattrname\u001b[38;5;132;01m}\u001b[39;00m\u001b[38;5;124m must match dimensions \u001b[39m\u001b[38;5;132;01m{\u001b[39;00mdims\u001b[38;5;132;01m}\u001b[39;00m\u001b[38;5;124m of parent. \u001b[39m\u001b[38;5;124m\"\u001b[39m\n\u001b[1;32m     87\u001b[0m             \u001b[38;5;124mf\u001b[39m\u001b[38;5;124m\"\u001b[39m\u001b[38;5;124mValue had shape \u001b[39m\u001b[38;5;132;01m{\u001b[39;00mactual_shape\u001b[38;5;132;01m}\u001b[39;00m\u001b[38;5;124m while it should have had \u001b[39m\u001b[38;5;132;01m{\u001b[39;00mright_shape\u001b[38;5;132;01m}\u001b[39;00m\u001b[38;5;124m.\u001b[39m\u001b[38;5;124m\"\u001b[39m\n\u001b[1;32m     88\u001b[0m         )\n\u001b[0;32m---> 89\u001b[0m     \u001b[38;5;28;01mraise\u001b[39;00m \u001b[38;5;167;01mValueError\u001b[39;00m(msg)\n\u001b[1;32m     91\u001b[0m \u001b[38;5;28;01mif\u001b[39;00m \u001b[38;5;129;01mnot\u001b[39;00m \u001b[38;5;28mself\u001b[39m\u001b[38;5;241m.\u001b[39m_allow_df \u001b[38;5;129;01mand\u001b[39;00m \u001b[38;5;28misinstance\u001b[39m(val, pd\u001b[38;5;241m.\u001b[39mDataFrame):\n\u001b[1;32m     92\u001b[0m     name \u001b[38;5;241m=\u001b[39m \u001b[38;5;28mself\u001b[39m\u001b[38;5;241m.\u001b[39mattrname\u001b[38;5;241m.\u001b[39mtitle()\u001b[38;5;241m.\u001b[39mrstrip(\u001b[38;5;124m\"\u001b[39m\u001b[38;5;124ms\u001b[39m\u001b[38;5;124m\"\u001b[39m)\n",
      "\u001b[0;31mValueError\u001b[0m: Value passed for key 'spatial' is of incorrect shape. Values of obsm must match dimensions ('obs',) of parent. Value had shape (3075,) while it should have had (4992,)."
     ]
    }
   ],
   "source": [
    "shan_path = shan_paths[0]\n",
    "# Extract mouse id\n",
    "shan_lab = shan_path.split(\"/\")[-1].replace(\"Visium_\", \"\").replace(\"_raw_feature_bc_matrix.h5\", \"\")\n",
    "# Will warn you that your variable names aren't unique, fixed below.\n",
    "with warnings.catch_warnings(action=\"ignore\"):\n",
    "    visium_in = sc.read_10x_h5(shan_path)\n",
    "visium_in.var_names_make_unique()\n",
    "coords = np.asarray(visium_meta_dict[shan_lab])\n",
    "visium_in.obsm[\"spatial\"] = coords\n",
    "h5_out_path = f\"{HAD_DIR}/p5_{shan_lab}.h5ad\"\n",
    "# visium_in.write_h5ad(h5_out_path)"
   ]
  },
  {
   "cell_type": "code",
   "execution_count": 137,
   "id": "2f1f12fd-b0fd-4dd8-a12b-defbd86be8a7",
   "metadata": {},
   "outputs": [
    {
     "data": {
      "text/plain": [
       "Index(['AAACAACGAATAGTTC-1', 'AAACAAGTATCTCCCA-1', 'AAACAATCTACTAGCA-1',\n",
       "       'AAACACCAATAACTGC-1', 'AAACAGAGCGACTCCT-1', 'AAACAGCTTTCAGAAG-1',\n",
       "       'AAACAGGGTCTATATT-1', 'AAACAGTGTTCCTGGG-1', 'AAACATGGTGAGAGGA-1',\n",
       "       'AAACATTTCCCGGATT-1',\n",
       "       ...\n",
       "       'TTGTTAGCAAATTCGA-1', 'TTGTTCAGTGTGCTAC-1', 'TTGTTCTAGATACGCT-1',\n",
       "       'TTGTTGGCAATGACTG-1', 'TTGTTGTGTGTCAAGA-1', 'TTGTTTCACATCCAGG-1',\n",
       "       'TTGTTTCATTAGTCTA-1', 'TTGTTTCCATACAACT-1', 'TTGTTTGTATTACACG-1',\n",
       "       'TTGTTTGTGTAAATTC-1'],\n",
       "      dtype='object', length=4992)"
      ]
     },
     "execution_count": 137,
     "metadata": {},
     "output_type": "execute_result"
    }
   ],
   "source": [
    "visium_in.obs_names"
   ]
  },
  {
   "cell_type": "code",
   "execution_count": 141,
   "id": "13ed626e-e5a8-49e0-8005-26d84f3ddcdb",
   "metadata": {},
   "outputs": [
    {
     "data": {
      "text/plain": [
       "'TTGTTTGTGTAAATTC-1'"
      ]
     },
     "execution_count": 141,
     "metadata": {},
     "output_type": "execute_result"
    }
   ],
   "source": [
    "line[0].replace(f\"{line[1]}_\", \"\").replace(\"_\", \"-\")"
   ]
  },
  {
   "cell_type": "code",
   "execution_count": 142,
   "id": "3ea6e1ec-a4e5-446d-81f9-695e998d271a",
   "metadata": {},
   "outputs": [],
   "source": [
    "barcodes = []\n",
    "with open(f'{shan_dir}/Visium_Meta_data.txt', mode ='r')as meta_file:\n",
    "    shan_meta = csv.reader(meta_file)\n",
    "    next(shan_meta)\n",
    "    for line in shan_meta:\n",
    "        barcode = line[0].replace(f\"{line[1]}_\", \"\").replace(\"_\", \"-\")\n",
    "        barcodes.append(barcode)"
   ]
  },
  {
   "cell_type": "code",
   "execution_count": 143,
   "id": "8d6e698f-ee0b-44a5-b853-4634918f8a5a",
   "metadata": {},
   "outputs": [
    {
     "data": {
      "text/plain": [
       "['AAACAATCTACTAGCA-1',\n",
       " 'AAACACCAATAACTGC-1',\n",
       " 'AAACAGTGTTCCTGGG-1',\n",
       " 'AAACATTTCCCGGATT-1']"
      ]
     },
     "execution_count": 143,
     "metadata": {},
     "output_type": "execute_result"
    }
   ],
   "source": [
    "in_obs = 0\n",
    "for barcode in barcodes:\n",
    "    if "
   ]
  },
  {
   "cell_type": "code",
   "execution_count": null,
   "id": "defe4905-d368-42c3-a798-28728e3161db",
   "metadata": {},
   "outputs": [],
   "source": []
  }
 ],
 "metadata": {
  "kernelspec": {
   "display_name": "spatialstem-py311",
   "language": "python",
   "name": "spatialstem-py311"
  },
  "language_info": {
   "codemirror_mode": {
    "name": "ipython",
    "version": 3
   },
   "file_extension": ".py",
   "mimetype": "text/x-python",
   "name": "python",
   "nbconvert_exporter": "python",
   "pygments_lexer": "ipython3",
   "version": "3.11.8"
  }
 },
 "nbformat": 4,
 "nbformat_minor": 5
}
