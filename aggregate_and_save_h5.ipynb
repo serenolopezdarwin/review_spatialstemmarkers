{
 "cells": [
  {
   "cell_type": "code",
   "execution_count": 40,
   "id": "b025dc26-b507-4bee-aff8-81003b97e966",
   "metadata": {},
   "outputs": [],
   "source": [
    "import glob2\n",
    "import matplotlib.pyplot as plt\n",
    "import numpy as np\n",
    "import scanpy as sc\n",
    "import squidpy as sq\n",
    "import warnings\n",
    "from anndata import AnnData"
   ]
  },
  {
   "cell_type": "code",
   "execution_count": 1,
   "id": "dfd17707-8a3e-4782-a4d2-f2df7b91a7c8",
   "metadata": {},
   "outputs": [],
   "source": [
    "PRJ_DIR = \"/scratch/gpfs/KANG/sereno/spatialstem\"\n",
    "SRC_DIR = f\"{PRJ_DIR}/sourcefiles\"\n",
    "RAW_DIR = f\"{SRC_DIR}/raw\"\n",
    "HAD_DIR = f\"{SRC_DIR}/h5ad\"\n",
    "INT_DIR = f\"{PRJ_DIR}/intermediates\"\n",
    "FIG_DIR = f\"{PRJ_DIR}/figs\""
   ]
  },
  {
   "cell_type": "code",
   "execution_count": 24,
   "id": "992d862a-49f6-4c4b-b712-78b3272c3554",
   "metadata": {
    "jupyter": {
     "source_hidden": true
    }
   },
   "outputs": [],
   "source": [
    "# Dann: Mapping the developing human immune system across organs\n",
    "dann_dir = f\"{RAW_DIR}/pub1_dann\"\n",
    "dann_paths = glob2.glob(f\"{dann_dir}/*\")\n",
    "# Already formatted..."
   ]
  },
  {
   "cell_type": "code",
   "execution_count": 47,
   "id": "9c605721-a0e8-4bb6-ac8e-41e7c9c9f762",
   "metadata": {
    "collapsed": true,
    "jupyter": {
     "outputs_hidden": true
    }
   },
   "outputs": [
    {
     "name": "stdout",
     "output_type": "stream",
     "text": [
      "Written: /scratch/gpfs/KANG/sereno/spatialstem/sourcefiles/h5ad/p2_largeintestine1.h5ad\n",
      "Written: /scratch/gpfs/KANG/sereno/spatialstem/sourcefiles/h5ad/p2_largeintestine2.h5ad\n",
      "Written: /scratch/gpfs/KANG/sereno/spatialstem/sourcefiles/h5ad/p2_smallintestine1.h5ad\n",
      "Written: /scratch/gpfs/KANG/sereno/spatialstem/sourcefiles/h5ad/p2_smallintestine2.h5ad\n"
     ]
    }
   ],
   "source": [
    "# Niec: Lymphatics act as a signaling hub to regulate intestinal stem cell activity\n",
    "niec_dir = f\"{RAW_DIR}/pub2_niec\"\n",
    "niec_paths = glob2.glob(f\"{niec_dir}/*\")\n",
    "niec_paths.sort()\n",
    "niec_labels = [\"largeintestine1\", \"largeintestine2\", \"smallintestine1\", \"smallintestine2\"]\n",
    "for niec_path, niec_label in zip(niec_paths, niec_labels):\n",
    "    # Will warn you that your variable names aren't unique, fixed below.\n",
    "    with warnings.catch_warnings(action=\"ignore\"):\n",
    "        visium_in = sc.read_visium(niec_path)\n",
    "    visium_in.var_names_make_unique()\n",
    "    h5_out_path = f\"{HAD_DIR}/p2_{niec_label}.h5ad\"\n",
    "    print(f\"Written: {h5_out_path}\")\n",
    "    visium_in.write_h5ad(h5_out_path)"
   ]
  },
  {
   "cell_type": "code",
   "execution_count": 49,
   "id": "55f2e939-b6c0-4add-b033-e464b439b3ee",
   "metadata": {},
   "outputs": [
    {
     "name": "stdout",
     "output_type": "stream",
     "text": [
      "['/scratch/gpfs/KANG/sereno/spatialstem/sourcefiles/raw/pub3_calvanese/HM-1', '/scratch/gpfs/KANG/sereno/spatialstem/sourcefiles/raw/pub3_calvanese/HM-2', '/scratch/gpfs/KANG/sereno/spatialstem/sourcefiles/raw/pub3_calvanese/HM-4', '/scratch/gpfs/KANG/sereno/spatialstem/sourcefiles/raw/pub3_calvanese/HM-5', '/scratch/gpfs/KANG/sereno/spatialstem/sourcefiles/raw/pub3_calvanese/HM-6', '/scratch/gpfs/KANG/sereno/spatialstem/sourcefiles/raw/pub3_calvanese/HM-7', '/scratch/gpfs/KANG/sereno/spatialstem/sourcefiles/raw/pub3_calvanese/HM-8']\n"
     ]
    }
   ],
   "source": [
    "# Calvanese: Mapping human hematopoietic stem cells from hemogenic endothelium to birth\n",
    "calv_dir = f\"{RAW_DIR}/pub3_calvanese\"\n",
    "calv_paths = glob2.glob(f\"{calv_dir}/*\")\n",
    "calv_paths.sort()\n",
    "print(calv_paths)"
   ]
  },
  {
   "cell_type": "code",
   "execution_count": 50,
   "id": "38ed547a-3d89-41af-8ff7-554cb5357fbe",
   "metadata": {},
   "outputs": [
    {
     "data": {
      "text/plain": [
       "AnnData object with n_obs × n_vars = 1008 × 33538\n",
       "    obs: 'in_tissue', 'array_row', 'array_col'\n",
       "    var: 'gene_ids', 'feature_types', 'genome'\n",
       "    uns: 'spatial'\n",
       "    obsm: 'spatial'"
      ]
     },
     "execution_count": 50,
     "metadata": {},
     "output_type": "execute_result"
    }
   ],
   "source": [
    "for idx, calv_path in enumerate(calv_paths):\n",
    "    continue\n",
    "with warnings.catch_warnings(action=\"ignore\"):\n",
    "    visium_in = sc.read_visium(calv_path)\n"
   ]
  },
  {
   "cell_type": "code",
   "execution_count": null,
   "id": "1d78ffe6-6cb1-44a3-92a4-76d0c3299d9a",
   "metadata": {},
   "outputs": [],
   "source": []
  }
 ],
 "metadata": {
  "kernelspec": {
   "display_name": "spatialstem-py311",
   "language": "python",
   "name": "spatialstem-py311"
  },
  "language_info": {
   "codemirror_mode": {
    "name": "ipython",
    "version": 3
   },
   "file_extension": ".py",
   "mimetype": "text/x-python",
   "name": "python",
   "nbconvert_exporter": "python",
   "pygments_lexer": "ipython3",
   "version": "3.11.8"
  }
 },
 "nbformat": 4,
 "nbformat_minor": 5
}
