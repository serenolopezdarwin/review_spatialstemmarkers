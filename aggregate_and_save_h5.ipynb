{
 "cells": [
  {
   "cell_type": "code",
   "execution_count": 1,
   "id": "b025dc26-b507-4bee-aff8-81003b97e966",
   "metadata": {
    "jupyter": {
     "source_hidden": true
    }
   },
   "outputs": [],
   "source": [
    "# Imports\n",
    "import csv\n",
    "import glob2\n",
    "import matplotlib.pyplot as plt\n",
    "import numpy as np\n",
    "import scanpy as sc\n",
    "import squidpy as sq\n",
    "import warnings\n",
    "from anndata import AnnData"
   ]
  },
  {
   "cell_type": "code",
   "execution_count": 3,
   "id": "dfd17707-8a3e-4782-a4d2-f2df7b91a7c8",
   "metadata": {
    "jupyter": {
     "source_hidden": true
    }
   },
   "outputs": [],
   "source": [
    "# Globals\n",
    "PRJ_DIR = \"/scratch/gpfs/KANG/sereno/spatialstem\"\n",
    "SRC_DIR = f\"{PRJ_DIR}/sourcefiles\"\n",
    "RAW_DIR = f\"{SRC_DIR}/raw\"\n",
    "HAD_DIR = f\"{SRC_DIR}/h5ad\"\n",
    "INT_DIR = f\"{PRJ_DIR}/intermediates\"\n",
    "FIG_DIR = f\"{PRJ_DIR}/figs\""
   ]
  },
  {
   "cell_type": "code",
   "execution_count": 24,
   "id": "992d862a-49f6-4c4b-b712-78b3272c3554",
   "metadata": {
    "jupyter": {
     "source_hidden": true
    }
   },
   "outputs": [],
   "source": [
    "# Dann: Mapping the developing human immune system across organs\n",
    "dann_dir = f\"{RAW_DIR}/pub1_dann\"\n",
    "dann_paths = glob2.glob(f\"{dann_dir}/*\")\n",
    "# Already formatted..."
   ]
  },
  {
   "cell_type": "code",
   "execution_count": 53,
   "id": "9c605721-a0e8-4bb6-ac8e-41e7c9c9f762",
   "metadata": {
    "collapsed": true,
    "jupyter": {
     "outputs_hidden": true,
     "source_hidden": true
    }
   },
   "outputs": [
    {
     "name": "stdout",
     "output_type": "stream",
     "text": [
      "Written: /scratch/gpfs/KANG/sereno/spatialstem/sourcefiles/h5ad/p2_largeintestine1.h5ad\n",
      "Written: /scratch/gpfs/KANG/sereno/spatialstem/sourcefiles/h5ad/p2_largeintestine2.h5ad\n",
      "Written: /scratch/gpfs/KANG/sereno/spatialstem/sourcefiles/h5ad/p2_smallintestine1.h5ad\n",
      "Written: /scratch/gpfs/KANG/sereno/spatialstem/sourcefiles/h5ad/p2_smallintestine2.h5ad\n"
     ]
    }
   ],
   "source": [
    "# Niec: Lymphatics act as a signaling hub to regulate intestinal stem cell activity\n",
    "niec_dir = f\"{RAW_DIR}/pub2_niec\"\n",
    "niec_paths = glob2.glob(f\"{niec_dir}/*\")\n",
    "niec_paths.sort()\n",
    "niec_labels = [\"largeintestine1\", \"largeintestine2\", \"smallintestine1\", \"smallintestine2\"]\n",
    "for niec_path, niec_label in zip(niec_paths, niec_labels):\n",
    "    # Will warn you that your variable names aren't unique, fixed below.\n",
    "    with warnings.catch_warnings(action=\"ignore\"):\n",
    "        visium_in = sc.read_visium(niec_path)\n",
    "    visium_in.var_names_make_unique()\n",
    "    h5_out_path = f\"{HAD_DIR}/p2_{niec_label}.h5ad\"\n",
    "    visium_in.write_h5ad(h5_out_path)\n",
    "    print(f\"Written: {h5_out_path}\")"
   ]
  },
  {
   "cell_type": "code",
   "execution_count": 49,
   "id": "55f2e939-b6c0-4add-b033-e464b439b3ee",
   "metadata": {
    "collapsed": true,
    "jupyter": {
     "outputs_hidden": true,
     "source_hidden": true
    }
   },
   "outputs": [
    {
     "name": "stdout",
     "output_type": "stream",
     "text": [
      "['/scratch/gpfs/KANG/sereno/spatialstem/sourcefiles/raw/pub3_calvanese/HM-1', '/scratch/gpfs/KANG/sereno/spatialstem/sourcefiles/raw/pub3_calvanese/HM-2', '/scratch/gpfs/KANG/sereno/spatialstem/sourcefiles/raw/pub3_calvanese/HM-4', '/scratch/gpfs/KANG/sereno/spatialstem/sourcefiles/raw/pub3_calvanese/HM-5', '/scratch/gpfs/KANG/sereno/spatialstem/sourcefiles/raw/pub3_calvanese/HM-6', '/scratch/gpfs/KANG/sereno/spatialstem/sourcefiles/raw/pub3_calvanese/HM-7', '/scratch/gpfs/KANG/sereno/spatialstem/sourcefiles/raw/pub3_calvanese/HM-8']\n"
     ]
    }
   ],
   "source": [
    "# Calvanese: Mapping human hematopoietic stem cells from hemogenic endothelium to birth\n",
    "calv_dir = f\"{RAW_DIR}/pub3_calvanese\"\n",
    "calv_paths = glob2.glob(f\"{calv_dir}/*\")\n",
    "calv_paths.sort()\n",
    "for idx, calv_path in enumerate(calv_paths):\n",
    "    with warnings.catch_warnings(action=\"ignore\"):\n",
    "        visium_in = sc.read_visium(calv_path)\n",
    "    visium_in.var_names_make_unique()\n",
    "    h5_out_path = f\"{HAD_DIR}/p3_hsc{idx+1}.h5ad\"\n",
    "    visium_in.write_h5ad(h5_out_path)\n",
    "    print(f\"Written: {h5_out_path}\")"
   ]
  },
  {
   "cell_type": "code",
   "execution_count": 90,
   "id": "a18168b1-cabb-407e-bd8e-97ba1e2e8c31",
   "metadata": {
    "collapsed": true,
    "jupyter": {
     "outputs_hidden": true,
     "source_hidden": true
    }
   },
   "outputs": [
    {
     "name": "stdout",
     "output_type": "stream",
     "text": [
      "Written: /scratch/gpfs/KANG/sereno/spatialstem/sourcefiles/h5ad/p4_caD0IR1.h5ad\n",
      "Written: /scratch/gpfs/KANG/sereno/spatialstem/sourcefiles/h5ad/p4_caD0IR2.h5ad\n",
      "Written: /scratch/gpfs/KANG/sereno/spatialstem/sourcefiles/h5ad/p4_caD14E1.h5ad\n",
      "Written: /scratch/gpfs/KANG/sereno/spatialstem/sourcefiles/h5ad/p4_caD14M1.h5ad\n",
      "Written: /scratch/gpfs/KANG/sereno/spatialstem/sourcefiles/h5ad/p4_caD14M2.h5ad\n",
      "Written: /scratch/gpfs/KANG/sereno/spatialstem/sourcefiles/h5ad/p4_caD7E1.h5ad\n",
      "Written: /scratch/gpfs/KANG/sereno/spatialstem/sourcefiles/h5ad/p4_caD7M1.h5ad\n",
      "Written: /scratch/gpfs/KANG/sereno/spatialstem/sourcefiles/h5ad/p4_caD7M2.h5ad\n",
      "Written: /scratch/gpfs/KANG/sereno/spatialstem/sourcefiles/h5ad/p4_mmD141.h5ad\n",
      "Written: /scratch/gpfs/KANG/sereno/spatialstem/sourcefiles/h5ad/p4_mmD142.h5ad\n",
      "Written: /scratch/gpfs/KANG/sereno/spatialstem/sourcefiles/h5ad/p4_mmITD1.h5ad\n",
      "Written: /scratch/gpfs/KANG/sereno/spatialstem/sourcefiles/h5ad/p4_mmITD2.h5ad\n",
      "Written: /scratch/gpfs/KANG/sereno/spatialstem/sourcefiles/h5ad/p4_mmITD3.h5ad\n",
      "Written: /scratch/gpfs/KANG/sereno/spatialstem/sourcefiles/h5ad/p4_mmITD4.h5ad\n",
      "Written: /scratch/gpfs/KANG/sereno/spatialstem/sourcefiles/h5ad/p4_mmPBS1.h5ad\n",
      "Written: /scratch/gpfs/KANG/sereno/spatialstem/sourcefiles/h5ad/p4_mmPBS2.h5ad\n",
      "Written: /scratch/gpfs/KANG/sereno/spatialstem/sourcefiles/h5ad/p4_mmPBS3.h5ad\n",
      "Written: /scratch/gpfs/KANG/sereno/spatialstem/sourcefiles/h5ad/p4_mmPBS4.h5ad\n"
     ]
    }
   ],
   "source": [
    "# Larouche: Spatiotemporal mapping of immune and stem cell dysregulation after volumetric muscle loss\n",
    "laro_dir = f\"{RAW_DIR}/pub4_larouche\"\n",
    "laro_paths_raw = glob2.glob(f\"{laro_dir}/*\")\n",
    "# Filters out raw RDS objects\n",
    "laro_paths = [path for path in laro_paths_raw if 'GSE205707' not in path]\n",
    "laro_paths.sort()\n",
    "for laro_path in laro_paths:\n",
    "    laro_lab = laro_path.split(\"/\")[-1]\n",
    "    visium_in = sc.read_10x_mtx(laro_path)\n",
    "    coords_in = np.genfromtxt(f\"{laro_path}/coords.csv\", delimiter=\",\", dtype=\"int64\")\n",
    "    visium_in.obsm[\"spatial\"] = coords_in\n",
    "    h5_out_path = f\"{HAD_DIR}/p4_{laro_lab}.h5ad\"\n",
    "    visium_in.write_h5ad(h5_out_path)\n",
    "    print(f\"Written: {h5_out_path}\")"
   ]
  },
  {
   "cell_type": "code",
   "execution_count": 5,
   "id": "f42881a0-6c9e-4719-818d-ccbcc2d345d2",
   "metadata": {
    "collapsed": true,
    "jupyter": {
     "outputs_hidden": true,
     "source_hidden": true
    }
   },
   "outputs": [
    {
     "name": "stdout",
     "output_type": "stream",
     "text": [
      "['/scratch/gpfs/KANG/sereno/spatialstem/sourcefiles/raw/pub5_shani/Visium_24h_m1_raw_feature_bc_matrix.h5', '/scratch/gpfs/KANG/sereno/spatialstem/sourcefiles/raw/pub5_shani/Visium_24h_m2_raw_feature_bc_matrix.h5', '/scratch/gpfs/KANG/sereno/spatialstem/sourcefiles/raw/pub5_shani/Visium_48h_m4_raw_feature_bc_matrix.h5', '/scratch/gpfs/KANG/sereno/spatialstem/sourcefiles/raw/pub5_shani/Visium_48h_m5_raw_feature_bc_matrix.h5', '/scratch/gpfs/KANG/sereno/spatialstem/sourcefiles/raw/pub5_shani/Visium_72h_m1_raw_feature_bc_matrix.h5', '/scratch/gpfs/KANG/sereno/spatialstem/sourcefiles/raw/pub5_shani/Visium_72h_m2_raw_feature_bc_matrix.h5']\n"
     ]
    }
   ],
   "source": [
    "# # Error in this dataset (Shani, P5), deprecated for now.\n",
    "# # Shani: The spatio-temporal program of liver zonal regeneration\n",
    "# shan_dir = f\"{RAW_DIR}/pub5_shani\"\n",
    "# shan_paths = glob2.glob(f\"{shan_dir}/*.h5\")\n",
    "# shan_paths.sort()\n",
    "# print(shan_paths)\n",
    "# # Read metadata to get visium coords\n",
    "# visium_meta_dict = {}\n",
    "# with open(f'{shan_dir}/Visium_Meta_data.txt', mode ='r')as meta_file:\n",
    "#     shan_meta = csv.reader(meta_file)\n",
    "#     next(shan_meta)\n",
    "#     for line in shan_meta:\n",
    "#         sample = line[1].replace(\"t_\", \"\")\n",
    "#         x_coord = np.int64(line[4])\n",
    "#         y_coord = np.int64(line[5])\n",
    "#         coords = [x_coord, y_coord]\n",
    "#         if sample not in visium_meta_dict:\n",
    "#             visium_meta_dict[sample] = []\n",
    "#         visium_meta_dict[sample].append(coords)\n",
    "# # Notice that this does not work due to the visium_in not lining up with metadata.\n",
    "# for shan_path in shan_paths:\n",
    "#     # Extract mouse id\n",
    "#     shan_lab = shan_path.split(\"/\")[-1].replace(\"Visium_\", \"\").replace(\"_raw_feature_bc_matrix.h5\", \"\")\n",
    "#     # Will warn you that your variable names aren't unique, fixed below.\n",
    "#     with warnings.catch_warnings(action=\"ignore\"):\n",
    "#         visium_in = sc.read_10x_h5(shan_path)\n",
    "#     visium_in.var_names_make_unique()\n",
    "#     coords = np.asarray(visium_meta_dict[shan_lab])\n",
    "#     visium_in.obsm[\"spatial\"] = coords\n",
    "#     h5_out_path = f\"{HAD_DIR}/p5_{shan_lab}.h5ad\"\n",
    "#     # visium_in.write_h5ad(h5_out_path)"
   ]
  },
  {
   "cell_type": "code",
   "execution_count": 40,
   "id": "509e05ae-7753-4d10-9aea-909b123efa91",
   "metadata": {
    "collapsed": true,
    "jupyter": {
     "outputs_hidden": true,
     "source_hidden": true
    },
    "scrolled": true
   },
   "outputs": [
    {
     "name": "stdout",
     "output_type": "stream",
     "text": [
      "/scratch/gpfs/KANG/sereno/spatialstem/sourcefiles/raw/pub5_shani/Visium_24h_m2_raw_feature_bc_matrix.h5\n"
     ]
    },
    {
     "data": {
      "text/plain": [
       "AnnData object with n_obs × n_vars = 4992 × 32285\n",
       "    var: 'gene_ids', 'feature_types', 'genome'"
      ]
     },
     "execution_count": 40,
     "metadata": {},
     "output_type": "execute_result"
    }
   ],
   "source": [
    "# Some example Shani objects: obj 1\n",
    "shan_path = shan_paths[1]\n",
    "shan_lab = shan_path.split(\"/\")[-1].replace(\"Visium_\", \"\").replace(\"_raw_feature_bc_matrix.h5\", \"\")\n",
    "# Will warn you that your variable names aren't unique, fixed below.\n",
    "with warnings.catch_warnings(action=\"ignore\"):\n",
    "    visium_in = sc.read_10x_h5(shan_path)\n",
    "visium_in.var_names_make_unique()\n",
    "print(shan_path)\n",
    "visium_in"
   ]
  },
  {
   "cell_type": "code",
   "execution_count": 41,
   "id": "2aeacf02-99cd-468e-b34a-cac54b9f16e0",
   "metadata": {
    "collapsed": true,
    "jupyter": {
     "outputs_hidden": true,
     "source_hidden": true
    }
   },
   "outputs": [
    {
     "name": "stdout",
     "output_type": "stream",
     "text": [
      "/scratch/gpfs/KANG/sereno/spatialstem/sourcefiles/raw/pub5_shani/Visium_48h_m4_raw_feature_bc_matrix.h5\n"
     ]
    },
    {
     "data": {
      "text/plain": [
       "AnnData object with n_obs × n_vars = 4991 × 32285\n",
       "    var: 'gene_ids', 'feature_types', 'genome'"
      ]
     },
     "execution_count": 41,
     "metadata": {},
     "output_type": "execute_result"
    }
   ],
   "source": [
    "# Some example Shani objects: obj 2\n",
    "shan_path = shan_paths[2]\n",
    "shan_lab = shan_path.split(\"/\")[-1].replace(\"Visium_\", \"\").replace(\"_raw_feature_bc_matrix.h5\", \"\")\n",
    "# Will warn you that your variable names aren't unique, fixed below.\n",
    "with warnings.catch_warnings(action=\"ignore\"):\n",
    "    visium_in = sc.read_10x_h5(shan_path)\n",
    "visium_in.var_names_make_unique()\n",
    "print(shan_path)\n",
    "visium_in"
   ]
  },
  {
   "cell_type": "code",
   "execution_count": null,
   "id": "0d007650-f2e1-478a-811a-34beed463930",
   "metadata": {},
   "outputs": [],
   "source": [
    "# "
   ]
  }
 ],
 "metadata": {
  "kernelspec": {
   "display_name": "spatialstem-py311",
   "language": "python",
   "name": "spatialstem-py311"
  },
  "language_info": {
   "codemirror_mode": {
    "name": "ipython",
    "version": 3
   },
   "file_extension": ".py",
   "mimetype": "text/x-python",
   "name": "python",
   "nbconvert_exporter": "python",
   "pygments_lexer": "ipython3",
   "version": "3.11.8"
  }
 },
 "nbformat": 4,
 "nbformat_minor": 5
}
