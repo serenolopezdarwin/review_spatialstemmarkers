{
 "cells": [
  {
   "cell_type": "code",
   "execution_count": 7,
   "id": "b025dc26-b507-4bee-aff8-81003b97e966",
   "metadata": {
    "jupyter": {
     "source_hidden": true
    }
   },
   "outputs": [],
   "source": [
    "# Imports\n",
    "import csv\n",
    "import glob2\n",
    "import pandas as pd\n",
    "import matplotlib.pyplot as plt\n",
    "import numpy as np\n",
    "import scanpy as sc\n",
    "import squidpy as sq\n",
    "import warnings\n",
    "from anndata import AnnData\n",
    "from scipy import sparse"
   ]
  },
  {
   "cell_type": "code",
   "execution_count": 8,
   "id": "dfd17707-8a3e-4782-a4d2-f2df7b91a7c8",
   "metadata": {
    "jupyter": {
     "source_hidden": true
    }
   },
   "outputs": [],
   "source": [
    "# Globals\n",
    "PRJ_DIR = \"/scratch/gpfs/KANG/sereno/spatialstem\"\n",
    "SRC_DIR = f\"{PRJ_DIR}/sourcefiles\"\n",
    "RAW_DIR = f\"{SRC_DIR}/raw\"\n",
    "HAD_DIR = f\"{SRC_DIR}/h5ad\"\n",
    "INT_DIR = f\"{PRJ_DIR}/intermediates\"\n",
    "FIG_DIR = f\"{PRJ_DIR}/figs\""
   ]
  },
  {
   "cell_type": "code",
   "execution_count": 128,
   "id": "bf2872d8-0b8a-4db1-819d-13ea9f87b637",
   "metadata": {
    "jupyter": {
     "source_hidden": true
    }
   },
   "outputs": [],
   "source": [
    "# Debugs visium read-in function to accept DropletUtils-written hdf5s\n",
    "from __future__ import annotations\n",
    "import json\n",
    "from pathlib import Path, PurePath\n",
    "from typing import BinaryIO, Literal\n",
    "import anndata.utils\n",
    "import h5py\n",
    "import numpy as np\n",
    "import pandas as pd\n",
    "from anndata import (\n",
    "    AnnData,\n",
    "    read_csv,\n",
    "    read_excel,\n",
    "    read_h5ad,\n",
    "    read_hdf,\n",
    "    read_loom,\n",
    "    read_mtx,\n",
    "    read_text,\n",
    ")\n",
    "from matplotlib.image import imread\n",
    "\n",
    "def read_visium_debug(\n",
    "    path: Path | str,\n",
    "    genome: str | None = None,\n",
    "    *,\n",
    "    count_file: str = \"filtered_feature_bc_matrix.h5\",\n",
    "    library_id: str | None = None,\n",
    "    load_images: bool | None = True,\n",
    "    source_image_path: Path | str | None = None,\n",
    ") -> AnnData:\n",
    "    \"\"\"\\\n",
    "    Read 10x-Genomics-formatted visum dataset.\n",
    "\n",
    "    In addition to reading regular 10x output,\n",
    "    this looks for the `spatial` folder and loads images,\n",
    "    coordinates and scale factors.\n",
    "    Based on the `Space Ranger output docs`_.\n",
    "\n",
    "    See :func:`~scanpy.pl.spatial` for a compatible plotting function.\n",
    "\n",
    "    .. _Space Ranger output docs: https://support.10xgenomics.com/spatial-gene-expression/software/pipelines/latest/output/overview\n",
    "\n",
    "    Parameters\n",
    "    ----------\n",
    "    path\n",
    "        Path to directory for visium datafiles.\n",
    "    genome\n",
    "        Filter expression to genes within this genome.\n",
    "    count_file\n",
    "        Which file in the passed directory to use as the count file. Typically would be one of:\n",
    "        'filtered_feature_bc_matrix.h5' or 'raw_feature_bc_matrix.h5'.\n",
    "    library_id\n",
    "        Identifier for the visium library. Can be modified when concatenating multiple adata objects.\n",
    "    source_image_path\n",
    "        Path to the high-resolution tissue image. Path will be included in\n",
    "        `.uns[\"spatial\"][library_id][\"metadata\"][\"source_image_path\"]`.\n",
    "\n",
    "    Returns\n",
    "    -------\n",
    "    Annotated data matrix, where observations/cells are named by their\n",
    "    barcode and variables/genes by gene name. Stores the following information:\n",
    "\n",
    "    :attr:`~anndata.AnnData.X`\n",
    "        The data matrix is stored\n",
    "    :attr:`~anndata.AnnData.obs_names`\n",
    "        Cell names\n",
    "    :attr:`~anndata.AnnData.var_names`\n",
    "        Gene names for a feature barcode matrix, probe names for a probe bc matrix\n",
    "    :attr:`~anndata.AnnData.var`\\\\ `['gene_ids']`\n",
    "        Gene IDs\n",
    "    :attr:`~anndata.AnnData.var`\\\\ `['feature_types']`\n",
    "        Feature types\n",
    "    :attr:`~anndata.AnnData.obs`\\\\ `[filtered_barcodes]`\n",
    "        filtered barcodes if present in the matrix\n",
    "    :attr:`~anndata.AnnData.var`\n",
    "        Any additional metadata present in /matrix/features is read in.\n",
    "    :attr:`~anndata.AnnData.uns`\\\\ `['spatial']`\n",
    "        Dict of spaceranger output files with 'library_id' as key\n",
    "    :attr:`~anndata.AnnData.uns`\\\\ `['spatial'][library_id]['images']`\n",
    "        Dict of images (`'hires'` and `'lowres'`)\n",
    "    :attr:`~anndata.AnnData.uns`\\\\ `['spatial'][library_id]['scalefactors']`\n",
    "        Scale factors for the spots\n",
    "    :attr:`~anndata.AnnData.uns`\\\\ `['spatial'][library_id]['metadata']`\n",
    "        Files metadata: 'chemistry_description', 'software_version', 'source_image_path'\n",
    "    :attr:`~anndata.AnnData.obsm`\\\\ `['spatial']`\n",
    "        Spatial spot coordinates, usable as `basis` by :func:`~scanpy.pl.embedding`.\n",
    "    \"\"\"\n",
    "    path = Path(path)\n",
    "    adata = sc.read_10x_h5(path / count_file, genome=genome)\n",
    "\n",
    "    adata.uns[\"spatial\"] = dict()\n",
    "\n",
    "    from h5py import File\n",
    "\n",
    "    with File(path / count_file, mode=\"r\") as f:\n",
    "        attrs = dict(f.attrs)\n",
    "    if library_id is None:\n",
    "        library_id = attrs[\"library_ids\"]\n",
    "\n",
    "    adata.uns[\"spatial\"][library_id] = dict()\n",
    "\n",
    "    if load_images:\n",
    "        tissue_positions_file = (\n",
    "            path / \"spatial/tissue_positions.csv\"\n",
    "            if (path / \"spatial/tissue_positions.csv\").exists()\n",
    "            else path / \"spatial/tissue_positions_list.csv\"\n",
    "        )\n",
    "        files = dict(\n",
    "            tissue_positions_file=tissue_positions_file,\n",
    "            scalefactors_json_file=path / \"spatial/scalefactors_json.json\",\n",
    "            hires_image=path / \"spatial/tissue_hires_image.png\",\n",
    "            lowres_image=path / \"spatial/tissue_lowres_image.png\",\n",
    "        )\n",
    "\n",
    "        # check if files exists, continue if images are missing\n",
    "        for f in files.values():\n",
    "            if not f.exists():\n",
    "                if any(x in str(f) for x in [\"hires_image\", \"lowres_image\"]):\n",
    "                    logg.warning(\n",
    "                        f\"You seem to be missing an image file.\\n\"\n",
    "                        f\"Could not find '{f}'.\"\n",
    "                    )\n",
    "                else:\n",
    "                    raise OSError(f\"Could not find '{f}'\")\n",
    "\n",
    "        adata.uns[\"spatial\"][library_id][\"images\"] = dict()\n",
    "        for res in [\"hires\", \"lowres\"]:\n",
    "            try:\n",
    "                adata.uns[\"spatial\"][library_id][\"images\"][res] = imread(\n",
    "                    str(files[f\"{res}_image\"])\n",
    "                )\n",
    "            except Exception:\n",
    "                raise OSError(f\"Could not find '{res}_image'\")\n",
    "\n",
    "        # read json scalefactors\n",
    "        adata.uns[\"spatial\"][library_id][\"scalefactors\"] = json.loads(\n",
    "            files[\"scalefactors_json_file\"].read_bytes()\n",
    "        )\n",
    "\n",
    "        adata.uns[\"spatial\"][library_id][\"metadata\"] = {\n",
    "            k: (str(attrs[k], \"utf-8\") if isinstance(attrs[k], bytes) else attrs[k])\n",
    "            for k in (\"chemistry_description\", \"software_version\")\n",
    "            if k in attrs\n",
    "        }\n",
    "\n",
    "        # read coordinates\n",
    "        positions = pd.read_csv(\n",
    "            files[\"tissue_positions_file\"],\n",
    "            header=0 if tissue_positions_file.name == \"tissue_positions.csv\" else None,\n",
    "            index_col=0,\n",
    "        )\n",
    "        positions.columns = [\n",
    "            \"in_tissue\",\n",
    "            \"array_row\",\n",
    "            \"array_col\",\n",
    "            \"pxl_col_in_fullres\",\n",
    "            \"pxl_row_in_fullres\",\n",
    "        ]\n",
    "\n",
    "        adata.obs = adata.obs.join(positions, how=\"left\")\n",
    "\n",
    "        adata.obsm[\"spatial\"] = adata.obs[\n",
    "            [\"pxl_row_in_fullres\", \"pxl_col_in_fullres\"]\n",
    "        ].to_numpy()\n",
    "        adata.obs.drop(\n",
    "            columns=[\"pxl_row_in_fullres\", \"pxl_col_in_fullres\"],\n",
    "            inplace=True,\n",
    "        )\n",
    "\n",
    "        # put image path in uns\n",
    "        if source_image_path is not None:\n",
    "            # get an absolute path\n",
    "            source_image_path = str(Path(source_image_path).resolve())\n",
    "            adata.uns[\"spatial\"][library_id][\"metadata\"][\"source_image_path\"] = str(\n",
    "                source_image_path\n",
    "            )\n",
    "\n",
    "    return adata"
   ]
  },
  {
   "cell_type": "code",
   "execution_count": 24,
   "id": "992d862a-49f6-4c4b-b712-78b3272c3554",
   "metadata": {
    "jupyter": {
     "source_hidden": true
    }
   },
   "outputs": [],
   "source": [
    "# Dann: Mapping the developing human immune system across organs\n",
    "dann_dir = f\"{RAW_DIR}/pub01_dann\"\n",
    "dann_paths = glob2.glob(f\"{dann_dir}/*\")\n",
    "# Already formatted..."
   ]
  },
  {
   "cell_type": "code",
   "execution_count": 53,
   "id": "9c605721-a0e8-4bb6-ac8e-41e7c9c9f762",
   "metadata": {
    "collapsed": true,
    "jupyter": {
     "outputs_hidden": true,
     "source_hidden": true
    }
   },
   "outputs": [
    {
     "name": "stdout",
     "output_type": "stream",
     "text": [
      "Written: /scratch/gpfs/KANG/sereno/spatialstem/sourcefiles/h5ad/p2_largeintestine1.h5ad\n",
      "Written: /scratch/gpfs/KANG/sereno/spatialstem/sourcefiles/h5ad/p2_largeintestine2.h5ad\n",
      "Written: /scratch/gpfs/KANG/sereno/spatialstem/sourcefiles/h5ad/p2_smallintestine1.h5ad\n",
      "Written: /scratch/gpfs/KANG/sereno/spatialstem/sourcefiles/h5ad/p2_smallintestine2.h5ad\n"
     ]
    }
   ],
   "source": [
    "# Niec: Lymphatics act as a signaling hub to regulate intestinal stem cell activity\n",
    "niec_dir = f\"{RAW_DIR}/pub02_niec\"\n",
    "niec_paths = glob2.glob(f\"{niec_dir}/*\")\n",
    "niec_paths.sort()\n",
    "niec_labels = [\"largeintestine1\", \"largeintestine2\", \"smallintestine1\", \"smallintestine2\"]\n",
    "for niec_path, niec_label in zip(niec_paths, niec_labels):\n",
    "    # Will warn you that your variable names aren't unique, fixed below.\n",
    "    with warnings.catch_warnings(action=\"ignore\"):\n",
    "        visium_in = sc.read_visium(niec_path)\n",
    "    visium_in.var_names_make_unique()\n",
    "    h5_out_path = f\"{HAD_DIR}/p02_{niec_label}.h5ad\"\n",
    "    visium_in.write_h5ad(h5_out_path)\n",
    "    print(f\"Written: {h5_out_path}\")"
   ]
  },
  {
   "cell_type": "code",
   "execution_count": 49,
   "id": "55f2e939-b6c0-4add-b033-e464b439b3ee",
   "metadata": {
    "collapsed": true,
    "jupyter": {
     "outputs_hidden": true,
     "source_hidden": true
    }
   },
   "outputs": [
    {
     "name": "stdout",
     "output_type": "stream",
     "text": [
      "['/scratch/gpfs/KANG/sereno/spatialstem/sourcefiles/raw/pub3_calvanese/HM-1', '/scratch/gpfs/KANG/sereno/spatialstem/sourcefiles/raw/pub3_calvanese/HM-2', '/scratch/gpfs/KANG/sereno/spatialstem/sourcefiles/raw/pub3_calvanese/HM-4', '/scratch/gpfs/KANG/sereno/spatialstem/sourcefiles/raw/pub3_calvanese/HM-5', '/scratch/gpfs/KANG/sereno/spatialstem/sourcefiles/raw/pub3_calvanese/HM-6', '/scratch/gpfs/KANG/sereno/spatialstem/sourcefiles/raw/pub3_calvanese/HM-7', '/scratch/gpfs/KANG/sereno/spatialstem/sourcefiles/raw/pub3_calvanese/HM-8']\n"
     ]
    }
   ],
   "source": [
    "# Calvanese: Mapping human hematopoietic stem cells from hemogenic endothelium to birth\n",
    "calv_dir = f\"{RAW_DIR}/pub03_calvanese\"\n",
    "calv_paths = glob2.glob(f\"{calv_dir}/*\")\n",
    "calv_paths.sort()\n",
    "for idx, calv_path in enumerate(calv_paths):\n",
    "    with warnings.catch_warnings(action=\"ignore\"):\n",
    "        visium_in = sc.read_visium(calv_path)\n",
    "    visium_in.var_names_make_unique()\n",
    "    h5_out_path = f\"{HAD_DIR}/p03_hsc{idx+1}.h5ad\"\n",
    "    visium_in.write_h5ad(h5_out_path)\n",
    "    print(f\"Written: {h5_out_path}\")"
   ]
  },
  {
   "cell_type": "code",
   "execution_count": 90,
   "id": "a18168b1-cabb-407e-bd8e-97ba1e2e8c31",
   "metadata": {
    "collapsed": true,
    "jupyter": {
     "outputs_hidden": true,
     "source_hidden": true
    }
   },
   "outputs": [
    {
     "name": "stdout",
     "output_type": "stream",
     "text": [
      "Written: /scratch/gpfs/KANG/sereno/spatialstem/sourcefiles/h5ad/p4_caD0IR1.h5ad\n",
      "Written: /scratch/gpfs/KANG/sereno/spatialstem/sourcefiles/h5ad/p4_caD0IR2.h5ad\n",
      "Written: /scratch/gpfs/KANG/sereno/spatialstem/sourcefiles/h5ad/p4_caD14E1.h5ad\n",
      "Written: /scratch/gpfs/KANG/sereno/spatialstem/sourcefiles/h5ad/p4_caD14M1.h5ad\n",
      "Written: /scratch/gpfs/KANG/sereno/spatialstem/sourcefiles/h5ad/p4_caD14M2.h5ad\n",
      "Written: /scratch/gpfs/KANG/sereno/spatialstem/sourcefiles/h5ad/p4_caD7E1.h5ad\n",
      "Written: /scratch/gpfs/KANG/sereno/spatialstem/sourcefiles/h5ad/p4_caD7M1.h5ad\n",
      "Written: /scratch/gpfs/KANG/sereno/spatialstem/sourcefiles/h5ad/p4_caD7M2.h5ad\n",
      "Written: /scratch/gpfs/KANG/sereno/spatialstem/sourcefiles/h5ad/p4_mmD141.h5ad\n",
      "Written: /scratch/gpfs/KANG/sereno/spatialstem/sourcefiles/h5ad/p4_mmD142.h5ad\n",
      "Written: /scratch/gpfs/KANG/sereno/spatialstem/sourcefiles/h5ad/p4_mmITD1.h5ad\n",
      "Written: /scratch/gpfs/KANG/sereno/spatialstem/sourcefiles/h5ad/p4_mmITD2.h5ad\n",
      "Written: /scratch/gpfs/KANG/sereno/spatialstem/sourcefiles/h5ad/p4_mmITD3.h5ad\n",
      "Written: /scratch/gpfs/KANG/sereno/spatialstem/sourcefiles/h5ad/p4_mmITD4.h5ad\n",
      "Written: /scratch/gpfs/KANG/sereno/spatialstem/sourcefiles/h5ad/p4_mmPBS1.h5ad\n",
      "Written: /scratch/gpfs/KANG/sereno/spatialstem/sourcefiles/h5ad/p4_mmPBS2.h5ad\n",
      "Written: /scratch/gpfs/KANG/sereno/spatialstem/sourcefiles/h5ad/p4_mmPBS3.h5ad\n",
      "Written: /scratch/gpfs/KANG/sereno/spatialstem/sourcefiles/h5ad/p4_mmPBS4.h5ad\n"
     ]
    }
   ],
   "source": [
    "# Larouche: Spatiotemporal mapping of immune and stem cell dysregulation after volumetric muscle loss\n",
    "laro_dir = f\"{RAW_DIR}/pub04_larouche\"\n",
    "laro_paths_raw = glob2.glob(f\"{laro_dir}/*\")\n",
    "# Filters out raw RDS objects\n",
    "laro_paths = [path for path in laro_paths_raw if 'GSE205707' not in path]\n",
    "laro_paths.sort()\n",
    "for laro_path in laro_paths:\n",
    "    laro_lab = laro_path.split(\"/\")[-1]\n",
    "    visium_in = sc.read_10x_mtx(laro_path)\n",
    "    coords_in = np.genfromtxt(f\"{laro_path}/coords.csv\", delimiter=\",\", dtype=\"int64\")\n",
    "    visium_in.obsm[\"spatial\"] = coords_in\n",
    "    h5_out_path = f\"{HAD_DIR}/p04_{laro_lab}.h5ad\"\n",
    "    visium_in.write_h5ad(h5_out_path)\n",
    "    print(f\"Written: {h5_out_path}\")"
   ]
  },
  {
   "cell_type": "code",
   "execution_count": 5,
   "id": "f42881a0-6c9e-4719-818d-ccbcc2d345d2",
   "metadata": {
    "collapsed": true,
    "jupyter": {
     "outputs_hidden": true,
     "source_hidden": true
    }
   },
   "outputs": [
    {
     "name": "stdout",
     "output_type": "stream",
     "text": [
      "['/scratch/gpfs/KANG/sereno/spatialstem/sourcefiles/raw/pub5_shani/Visium_24h_m1_raw_feature_bc_matrix.h5', '/scratch/gpfs/KANG/sereno/spatialstem/sourcefiles/raw/pub5_shani/Visium_24h_m2_raw_feature_bc_matrix.h5', '/scratch/gpfs/KANG/sereno/spatialstem/sourcefiles/raw/pub5_shani/Visium_48h_m4_raw_feature_bc_matrix.h5', '/scratch/gpfs/KANG/sereno/spatialstem/sourcefiles/raw/pub5_shani/Visium_48h_m5_raw_feature_bc_matrix.h5', '/scratch/gpfs/KANG/sereno/spatialstem/sourcefiles/raw/pub5_shani/Visium_72h_m1_raw_feature_bc_matrix.h5', '/scratch/gpfs/KANG/sereno/spatialstem/sourcefiles/raw/pub5_shani/Visium_72h_m2_raw_feature_bc_matrix.h5']\n"
     ]
    }
   ],
   "source": [
    "# # Error in this dataset (Shani, P5), deprecated for now.\n",
    "# # Shani: The spatio-temporal program of liver zonal regeneration\n",
    "# shan_dir = f\"{RAW_DIR}/pub05_shani\"\n",
    "# shan_paths = glob2.glob(f\"{shan_dir}/*.h5\")\n",
    "# shan_paths.sort()\n",
    "# print(shan_paths)\n",
    "# # Read metadata to get visium coords\n",
    "# visium_meta_dict = {}\n",
    "# with open(f'{shan_dir}/Visium_Meta_data.txt', mode ='r')as meta_file:\n",
    "#     shan_meta = csv.reader(meta_file)\n",
    "#     next(shan_meta)\n",
    "#     for line in shan_meta:\n",
    "#         sample = line[1].replace(\"t_\", \"\")\n",
    "#         x_coord = np.int64(line[4])\n",
    "#         y_coord = np.int64(line[5])\n",
    "#         coords = [x_coord, y_coord]\n",
    "#         if sample not in visium_meta_dict:\n",
    "#             visium_meta_dict[sample] = []\n",
    "#         visium_meta_dict[sample].append(coords)\n",
    "# # Notice that this does not work due to the visium_in not lining up with metadata.\n",
    "# for shan_path in shan_paths:\n",
    "#     # Extract mouse id\n",
    "#     shan_lab = shan_path.split(\"/\")[-1].replace(\"Visium_\", \"\").replace(\"_raw_feature_bc_matrix.h5\", \"\")\n",
    "#     # Will warn you that your variable names aren't unique, fixed below.\n",
    "#     with warnings.catch_warnings(action=\"ignore\"):\n",
    "#         visium_in = sc.read_10x_h5(shan_path)\n",
    "#     visium_in.var_names_make_unique()\n",
    "#     coords = np.asarray(visium_meta_dict[shan_lab])\n",
    "#     visium_in.obsm[\"spatial\"] = coords\n",
    "#     h5_out_path = f\"{HAD_DIR}/p05_{shan_lab}.h5ad\"\n",
    "#     # visium_in.write_h5ad(h5_out_path)"
   ]
  },
  {
   "cell_type": "code",
   "execution_count": 40,
   "id": "509e05ae-7753-4d10-9aea-909b123efa91",
   "metadata": {
    "collapsed": true,
    "jupyter": {
     "outputs_hidden": true,
     "source_hidden": true
    },
    "scrolled": true
   },
   "outputs": [
    {
     "name": "stdout",
     "output_type": "stream",
     "text": [
      "/scratch/gpfs/KANG/sereno/spatialstem/sourcefiles/raw/pub5_shani/Visium_24h_m2_raw_feature_bc_matrix.h5\n"
     ]
    },
    {
     "data": {
      "text/plain": [
       "AnnData object with n_obs × n_vars = 4992 × 32285\n",
       "    var: 'gene_ids', 'feature_types', 'genome'"
      ]
     },
     "execution_count": 40,
     "metadata": {},
     "output_type": "execute_result"
    }
   ],
   "source": [
    "# Some example Shani objects: obj 1\n",
    "shan_path = shan_paths[1]\n",
    "shan_lab = shan_path.split(\"/\")[-1].replace(\"Visium_\", \"\").replace(\"_raw_feature_bc_matrix.h5\", \"\")\n",
    "# Will warn you that your variable names aren't unique, fixed below.\n",
    "with warnings.catch_warnings(action=\"ignore\"):\n",
    "    visium_in = sc.read_10x_h5(shan_path)\n",
    "visium_in.var_names_make_unique()\n",
    "print(shan_path)\n",
    "visium_in"
   ]
  },
  {
   "cell_type": "code",
   "execution_count": 41,
   "id": "2aeacf02-99cd-468e-b34a-cac54b9f16e0",
   "metadata": {
    "collapsed": true,
    "jupyter": {
     "outputs_hidden": true,
     "source_hidden": true
    }
   },
   "outputs": [
    {
     "name": "stdout",
     "output_type": "stream",
     "text": [
      "/scratch/gpfs/KANG/sereno/spatialstem/sourcefiles/raw/pub5_shani/Visium_48h_m4_raw_feature_bc_matrix.h5\n"
     ]
    },
    {
     "data": {
      "text/plain": [
       "AnnData object with n_obs × n_vars = 4991 × 32285\n",
       "    var: 'gene_ids', 'feature_types', 'genome'"
      ]
     },
     "execution_count": 41,
     "metadata": {},
     "output_type": "execute_result"
    }
   ],
   "source": [
    "# Some example Shani objects: obj 2\n",
    "shan_path = shan_paths[2]\n",
    "shan_lab = shan_path.split(\"/\")[-1].replace(\"Visium_\", \"\").replace(\"_raw_feature_bc_matrix.h5\", \"\")\n",
    "# Will warn you that your variable names aren't unique, fixed below.\n",
    "with warnings.catch_warnings(action=\"ignore\"):\n",
    "    visium_in = sc.read_10x_h5(shan_path)\n",
    "visium_in.var_names_make_unique()\n",
    "print(shan_path)\n",
    "visium_in"
   ]
  },
  {
   "cell_type": "code",
   "execution_count": 3,
   "id": "84120327-3a19-4dd0-958a-0072915b6eed",
   "metadata": {
    "collapsed": true,
    "jupyter": {
     "outputs_hidden": true,
     "source_hidden": true
    },
    "scrolled": true
   },
   "outputs": [
    {
     "name": "stdout",
     "output_type": "stream",
     "text": [
      "Written: /scratch/gpfs/KANG/sereno/spatialstem/sourcefiles/h5ad/p6_MBM05_rep1.h5ad\n",
      "Written: /scratch/gpfs/KANG/sereno/spatialstem/sourcefiles/h5ad/p6_MBM05_rep2.h5ad\n",
      "Written: /scratch/gpfs/KANG/sereno/spatialstem/sourcefiles/h5ad/p6_MBM05_rep3.h5ad\n",
      "Written: /scratch/gpfs/KANG/sereno/spatialstem/sourcefiles/h5ad/p6_MBM06.h5ad\n",
      "Written: /scratch/gpfs/KANG/sereno/spatialstem/sourcefiles/h5ad/p6_MBM07.h5ad\n",
      "Written: /scratch/gpfs/KANG/sereno/spatialstem/sourcefiles/h5ad/p6_MBM08.h5ad\n",
      "Written: /scratch/gpfs/KANG/sereno/spatialstem/sourcefiles/h5ad/p6_MBM11_rep1.h5ad\n",
      "Written: /scratch/gpfs/KANG/sereno/spatialstem/sourcefiles/h5ad/p6_MBM11_rep2.h5ad\n",
      "Written: /scratch/gpfs/KANG/sereno/spatialstem/sourcefiles/h5ad/p6_MBM11_rep3.h5ad\n",
      "Written: /scratch/gpfs/KANG/sereno/spatialstem/sourcefiles/h5ad/p6_MBM13.h5ad\n",
      "Written: /scratch/gpfs/KANG/sereno/spatialstem/sourcefiles/h5ad/p6_MBM18.h5ad\n",
      "Written: /scratch/gpfs/KANG/sereno/spatialstem/sourcefiles/h5ad/p6_ECM01_rep1.h5ad\n",
      "Written: /scratch/gpfs/KANG/sereno/spatialstem/sourcefiles/h5ad/p6_ECM01_rep2.h5ad\n",
      "Written: /scratch/gpfs/KANG/sereno/spatialstem/sourcefiles/h5ad/p6_ECM06.h5ad\n",
      "Written: /scratch/gpfs/KANG/sereno/spatialstem/sourcefiles/h5ad/p6_ECM08.h5ad\n",
      "Written: /scratch/gpfs/KANG/sereno/spatialstem/sourcefiles/h5ad/p6_ECM10.h5ad\n"
     ]
    }
   ],
   "source": [
    "# Biermann: Dissecting the treatment-naive ecosystem of human melanoma brain metastasis\n",
    "# Index of count files and spatial info should be equivalent.\n",
    "bier_dir = f\"{RAW_DIR}/pub06_biermann\"\n",
    "bier_count_paths = glob2.glob(f\"{bier_dir}/*raw_counts*\")\n",
    "bier_count_paths.sort()\n",
    "bier_coord_paths = glob2.glob(f\"{bier_dir}/*spatial_info*\")\n",
    "bier_coord_paths.sort()\n",
    "for bier_count_path, bier_coord_path in zip(bier_count_paths, bier_coord_paths):\n",
    "    counts = pd.read_csv(bier_count_path, compression='gzip', index_col=0).T\n",
    "    coords = pd.read_csv(bier_coord_path, compression='gzip', usecols=['xcoord', 'ycoord'])\n",
    "    bier_path_split = bier_count_path.split(\"/\")[-1].split(\"_\")\n",
    "    sample_id = (\"_\").join(bier_path_split[1:]).replace(\"_slide_raw_counts.csv.gz\", \"\")\n",
    "    bier_ad = sc.AnnData(sparse.csr_matrix(counts), counts.index.to_frame(), counts.columns.to_frame())\n",
    "    # Manual coordinate frame build\n",
    "    coords_arr = np.asarray(coords)\n",
    "    bier_ad.obsm[\"spatial\"] = coords_arr\n",
    "    # Manual feature info frame build.\n",
    "    gene_names = counts.columns\n",
    "    feature_type_rep = [\"Gene Expression\"] * len(gene_names)\n",
    "    bier_gene_frame = pd.DataFrame(index=gene_names, data={\"gene_ids\": gene_names, \"feature_types\": feature_type_rep})\n",
    "    bier_ad.var = bier_gene_frame\n",
    "    # Manual obs frame build\n",
    "    barcodes = counts.index\n",
    "    bier_obs_frame = pd.DataFrame(index=barcodes, data={\"barcode\": barcodes})\n",
    "    bier_obs_frame.index.name = \"barcode\"\n",
    "    bier_ad.obs = bier_obs_frame\n",
    "    h5_out_path = f\"{HAD_DIR}/0p6_{sample_id}.h5ad\"\n",
    "    bier_ad.write_h5ad(h5_out_path)\n",
    "    print(f\"Written: {h5_out_path}\")"
   ]
  },
  {
   "cell_type": "code",
   "execution_count": 6,
   "id": "c9618d08-2dd3-499f-a5ef-033e7269e96d",
   "metadata": {
    "collapsed": true,
    "jupyter": {
     "outputs_hidden": true
    }
   },
   "outputs": [
    {
     "name": "stdout",
     "output_type": "stream",
     "text": [
      "Written: /scratch/gpfs/KANG/sereno/spatialstem/sourcefiles/h5ad/p7_diabetes3.h5ad\n",
      "Written: /scratch/gpfs/KANG/sereno/spatialstem/sourcefiles/h5ad/p7_diabetes1.h5ad\n",
      "Written: /scratch/gpfs/KANG/sereno/spatialstem/sourcefiles/h5ad/p7_diabetes2.h5ad\n",
      "Written: /scratch/gpfs/KANG/sereno/spatialstem/sourcefiles/h5ad/p7_wtdiab2.h5ad\n",
      "Written: /scratch/gpfs/KANG/sereno/spatialstem/sourcefiles/h5ad/p7_wtdiab3.h5ad\n",
      "Written: /scratch/gpfs/KANG/sereno/spatialstem/sourcefiles/h5ad/p7_wtdiab1.h5ad\n"
     ]
    }
   ],
   "source": [
    "# Rajachandran: Dissecting the spermatogonial stem cell niche using spatial transcriptomics\n",
    "raja_dir = f\"{RAW_DIR}/pub07_rajachandran\"\n",
    "raja_paths = glob2.glob(f\"{raja_dir}/*\")\n",
    "raja_paths.sort()\n",
    "for raja_path in raja_paths:\n",
    "    raja_counts = glob2.glob(f\"{raja_path}/*MappedDGE*\")[0]\n",
    "    raja_coords = glob2.glob(f\"{raja_path}/*BeadLocations*\")[0]\n",
    "    # Shitty hack for inputs that contain bad data columns -- optimize later.\n",
    "    try:\n",
    "        counts = pd.read_csv(raja_counts, index_col=1)\n",
    "        counts.drop(\"Unnamed: 0\", axis=1, inplace=True)\n",
    "    except KeyError:\n",
    "        counts = pd.read_csv(raja_counts, index_col=0)\n",
    "    coords = pd.read_csv(raja_coords, usecols=['x', 'y'])\n",
    "    sample_id = raja_path.replace(f\"{raja_dir}/\", \"\")\n",
    "    raja_ad = sc.AnnData(sparse.csr_matrix(counts), counts.index.to_frame(), counts.columns.to_frame())\n",
    "    # Manual coordinate frame build\n",
    "    coords_arr = np.asarray(coords)\n",
    "    raja_ad.obsm[\"spatial\"] = coords_arr\n",
    "    # Manual feature info frame build.\n",
    "    gene_names = counts.columns\n",
    "    feature_type_rep = [\"Gene Expression\"] * len(gene_names)\n",
    "    raja_gene_frame = pd.DataFrame(index=gene_names, data={\"gene_ids\": gene_names, \"feature_types\": feature_type_rep})\n",
    "    raja_ad.var = raja_gene_frame\n",
    "    h5_out_path = f\"{HAD_DIR}/p7_{sample_id}.h5ad\"\n",
    "    raja_ad.write_h5ad(h5_out_path)\n",
    "    print(f\"Written: {h5_out_path}\")"
   ]
  },
  {
   "cell_type": "code",
   "execution_count": 72,
   "id": "b7047e75-12a6-4c7d-a96b-ad3110e38a0d",
   "metadata": {},
   "outputs": [],
   "source": [
    "# Chen: Human neural stem cells restore spatial memory in a transgenic Alzheimer's disease mouse model \n",
    "# by an immunomodulating mechanism\n",
    "# Need to write hdf5s in R before running.\n",
    "chen_dir = f\"{RAW_DIR}/pub8_chen\"\n",
    "chen_paths = glob2.glob(f\"{chen_dir}/*\")\n",
    "chen_paths.sort()\n",
    "for chen_path in chen_paths:\n",
    "    sample_id = chen_path.split(\"/\")[-1].replace(\"Sample_3792-FM-\", \"\")\n",
    "    chen_ad = read_visium_debug(chen_path)\n",
    "    h5_out_path = f\"{HAD_DIR}/p8_{sample_id}.h5ad\"\n",
    "    chen_ad.write_h5ad(h5_out_path)\n",
    "    print(f\"Written: {h5_out_path}\")"
   ]
  },
  {
   "cell_type": "code",
   "execution_count": 32,
   "id": "2a4250cb-1c05-4298-ad12-aab95c65c086",
   "metadata": {
    "collapsed": true,
    "jupyter": {
     "outputs_hidden": true
    }
   },
   "outputs": [
    {
     "name": "stdout",
     "output_type": "stream",
     "text": [
      "Written: /scratch/gpfs/KANG/sereno/spatialstem/sourcefiles/h5ad/p09_A2_OB_virgin.h5ad\n",
      "Written: /scratch/gpfs/KANG/sereno/spatialstem/sourcefiles/h5ad/p09_B2_OB_mother.h5ad\n",
      "Written: /scratch/gpfs/KANG/sereno/spatialstem/sourcefiles/h5ad/p09_C2_OB_virgin.h5ad\n",
      "Written: /scratch/gpfs/KANG/sereno/spatialstem/sourcefiles/h5ad/p09_D2_OB_mother.h5ad\n"
     ]
    }
   ],
   "source": [
    "# Chaker: Pregnancy-responsive pools of adult neural stem cells for transient neurogenesis in mothers\n",
    "# Note: was missing tissue lowres image, copied hires image to it.\n",
    "chak_dir = f\"{RAW_DIR}/pub09_chaker\"\n",
    "chak_paths = glob2.glob(f\"{chak_dir}/*\")\n",
    "chak_paths.sort()\n",
    "for chak_path in chak_paths:\n",
    "    chak_path_split = chak_path.split(\"/\")[-1].split(\"_\")\n",
    "    sample_id = \"_\".join(chak_path_split[1:])\n",
    "    sample_id\n",
    "    with warnings.catch_warnings(action=\"ignore\"):\n",
    "        chak_ad = sc.read_visium(chak_path)\n",
    "    h5_out_path = f\"{HAD_DIR}/p09_{sample_id}.h5ad\"\n",
    "    chak_ad.write_h5ad(h5_out_path)\n",
    "    print(f\"Written: {h5_out_path}\")"
   ]
  },
  {
   "cell_type": "code",
   "execution_count": null,
   "id": "68c34c22-6d10-4cdb-9792-f155a36e87e0",
   "metadata": {},
   "outputs": [],
   "source": [
    "# # Error in this dataset (Cohen, P10), no spatial info (positions.tsv) in uploaded data.\n",
    "# Cohen: Regulatory T cells in skin mediate immune privilege of the hair follicle stem cell niche"
   ]
  }
 ],
 "metadata": {
  "kernelspec": {
   "display_name": "spatialstem-py311",
   "language": "python",
   "name": "spatialstem-py311"
  },
  "language_info": {
   "codemirror_mode": {
    "name": "ipython",
    "version": 3
   },
   "file_extension": ".py",
   "mimetype": "text/x-python",
   "name": "python",
   "nbconvert_exporter": "python",
   "pygments_lexer": "ipython3",
   "version": "3.11.8"
  }
 },
 "nbformat": 4,
 "nbformat_minor": 5
}
