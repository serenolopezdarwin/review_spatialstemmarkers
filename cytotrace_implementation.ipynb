{
 "cells": [
  {
   "cell_type": "code",
   "execution_count": 67,
   "id": "d39040c5-2225-49a9-8ec1-5c72b9d41a20",
   "metadata": {},
   "outputs": [],
   "source": [
    "suppressPackageStartupMessages(suppressWarnings({\n",
    "    library(rhdf5)\n",
    "    library(Matrix)\n",
    "    library(CytoTRACE)\n",
    "    library(ggplot2)\n",
    "    library(viridis)\n",
    "}))"
   ]
  },
  {
   "cell_type": "code",
   "execution_count": 5,
   "id": "816bb81a-7c4a-45a0-a546-d400510907f0",
   "metadata": {},
   "outputs": [],
   "source": [
    "prj.dir <- \"/scratch/gpfs/KANG/sereno/spatialstem\"\n",
    "src.dir <- file.path(prj.dir, \"sourcefiles\")\n",
    "raw.dir <- file.path(src.dir, \"raw\")\n",
    "had.dir <- file.path(src.dir, \"h5ad\")\n",
    "int.dir <- file.path(prj.dir, \"intermediates\")\n",
    "fig.dir <- file.path(prj.dir, \"figs\")\n",
    "csv.dir <- file.path(src.dir, \"csv\")\n",
    "exp.dir <- file.path(csv.dir, \"exp\")\n",
    "cor.dir <- file.path(csv.dir, \"coords\")"
   ]
  },
  {
   "cell_type": "code",
   "execution_count": 72,
   "id": "84e31e04-d974-468a-8b91-6928e57fb70c",
   "metadata": {},
   "outputs": [],
   "source": [
    "# Function for opening an h5ad file as a formatted 10x object.\n",
    "exp.files <- list.files(exp.dir)\n",
    "exp.paths <- paste0(exp.dir, \"/\", exp.files)\n",
    "cor.files <- list.files(cor.dir)\n",
    "cor.paths <- paste0(cor.dir, \"/\", cor.files)"
   ]
  },
  {
   "cell_type": "code",
   "execution_count": 73,
   "id": "6ecd107e-1c8a-4e66-9ebe-45d3f0fab862",
   "metadata": {},
   "outputs": [
    {
     "name": "stdout",
     "output_type": "stream",
     "text": [
      "[1] \"/scratch/gpfs/KANG/sereno/spatialstem/sourcefiles/csv/exp/p01_fetalliver_slice1_exp.csv\"\n",
      "[1] \"/scratch/gpfs/KANG/sereno/spatialstem/sourcefiles/csv/coords/p01_fetalliver_slice1_coords.csv\"\n"
     ]
    }
   ],
   "source": [
    "exp.path <- exp.paths[1]\n",
    "cor.path <- cor.paths[1]\n",
    "print(exp.path)\n",
    "print(cor.path)"
   ]
  },
  {
   "cell_type": "code",
   "execution_count": 74,
   "id": "bbaaef93-7f1e-4aec-86c4-50ba8a2b1f23",
   "metadata": {},
   "outputs": [],
   "source": [
    "# Load in expression data\n",
    "expr <- data.frame(read.table(exp.path, header=TRUE, sep=\",\"))\n",
    "gene.names <- expr[, 1]"
   ]
  },
  {
   "cell_type": "code",
   "execution_count": 75,
   "id": "5570a064-f7ce-4986-b883-042e500b59d4",
   "metadata": {},
   "outputs": [],
   "source": [
    "# Remove duplicate gene rows and reformat matrix.\n",
    "duped.genes <- duplicated(gene.names)\n",
    "expr.filt <- expr[!duped.genes, ]\n",
    "rownames(expr.filt) <- expr.filt[, 1]\n",
    "expr.filt[, 1] <- NULL\n",
    "colnames(expr.filt) <- gsub(\"X\", \"\", colnames(expr.filt))"
   ]
  },
  {
   "cell_type": "code",
   "execution_count": null,
   "id": "4dab6433-7274-44b3-9cab-a56e0dab505c",
   "metadata": {
    "scrolled": true
   },
   "outputs": [
    {
     "name": "stderr",
     "output_type": "stream",
     "text": [
      "The number of cells in your dataset is less than 3,000. Fast mode has been disabled.\n",
      "\n",
      "Warning message in CytoTRACE(expr.filt, ncores = 16, enableFast = FALSE):\n",
      "“929 genes have zero expression in the matrix and were filtered”\n",
      "CytoTRACE will be run on 1 sub-sample(s) of approximately 2835 cells each using 1 / 16 core(s)\n",
      "\n",
      "Pre-processing data and generating similarity matrix...\n",
      "\n"
     ]
    }
   ],
   "source": [
    "n.cells <- ncol(expr.filt)\n",
    "ct.results <- CytoTRACE(expr.filt, ncores=16, enableFast=FALSE)\n",
    "ct.vals <- ct.results$CytoTRACE"
   ]
  },
  {
   "cell_type": "code",
   "execution_count": null,
   "id": "32679993-89d0-47bf-9a25-d29983a9d5d6",
   "metadata": {},
   "outputs": [],
   "source": [
    "coords <- read.table(cor.path, header=FALSE, sep=\",\")\n",
    "ct.df <- data.frame(x=coords[, 1], y=coords[, 2], cytotrace=ct.vals)"
   ]
  },
  {
   "cell_type": "code",
   "execution_count": null,
   "id": "03b97c20-fcf0-4afa-bf9f-cad7800f7863",
   "metadata": {},
   "outputs": [],
   "source": [
    "ggplot(data=ct.df, aes(x=x, y=y, color=cytotrace)) + \n",
    "    geom_point(size=1) + \n",
    "    theme_classic() + \n",
    "    scale_color_viridis(option=\"plasma\")"
   ]
  },
  {
   "cell_type": "code",
   "execution_count": null,
   "id": "156d020f-2d6d-499f-9cdf-817ce461409d",
   "metadata": {},
   "outputs": [],
   "source": []
  }
 ],
 "metadata": {
  "kernelspec": {
   "display_name": "SpatialStem 4.3.1",
   "language": "R",
   "name": "spatialstem431"
  },
  "language_info": {
   "codemirror_mode": "r",
   "file_extension": ".r",
   "mimetype": "text/x-r-source",
   "name": "R",
   "pygments_lexer": "r",
   "version": "4.3.1"
  }
 },
 "nbformat": 4,
 "nbformat_minor": 5
}
