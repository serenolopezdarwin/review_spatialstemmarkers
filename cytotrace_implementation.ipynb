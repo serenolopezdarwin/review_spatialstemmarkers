{
 "cells": [
  {
   "cell_type": "code",
   "execution_count": 22,
   "id": "d39040c5-2225-49a9-8ec1-5c72b9d41a20",
   "metadata": {},
   "outputs": [],
   "source": [
    "suppressPackageStartupMessages(suppressWarnings({\n",
    "library(rhdf5)\n",
    "library(Matrix)\n",
    "}))"
   ]
  },
  {
   "cell_type": "code",
   "execution_count": 2,
   "id": "816bb81a-7c4a-45a0-a546-d400510907f0",
   "metadata": {},
   "outputs": [],
   "source": [
    "prj.dir = \"/scratch/gpfs/KANG/sereno/spatialstem\"\n",
    "src.dir = file.path(prj.dir, \"sourcefiles\")\n",
    "raw.dir = file.path(src.dir, \"raw\")\n",
    "had.dir = file.path(src.dir, \"h5ad\")\n",
    "int.dir = file.path(prj.dir, \"intermediates\")\n",
    "fig.dir = file.path(prj.dir, \"figs\")"
   ]
  },
  {
   "cell_type": "code",
   "execution_count": 8,
   "id": "84e31e04-d974-468a-8b91-6928e57fb70c",
   "metadata": {},
   "outputs": [],
   "source": [
    "# Function for opening an h5ad file as a formatted 10x object.\n",
    "h5ad.files <- list.files(had.dir)\n",
    "h5ad.paths <- paste0(had.dir, \"/\", h5ad.files)"
   ]
  },
  {
   "cell_type": "code",
   "execution_count": 14,
   "id": "6ecd107e-1c8a-4e66-9ebe-45d3f0fab862",
   "metadata": {},
   "outputs": [
    {
     "data": {
      "text/html": [
       "'/scratch/gpfs/KANG/sereno/spatialstem/sourcefiles/h5ad/p01_fetalliver.h5ad'"
      ],
      "text/latex": [
       "'/scratch/gpfs/KANG/sereno/spatialstem/sourcefiles/h5ad/p01\\_fetalliver.h5ad'"
      ],
      "text/markdown": [
       "'/scratch/gpfs/KANG/sereno/spatialstem/sourcefiles/h5ad/p01_fetalliver.h5ad'"
      ],
      "text/plain": [
       "[1] \"/scratch/gpfs/KANG/sereno/spatialstem/sourcefiles/h5ad/p01_fetalliver.h5ad\""
      ]
     },
     "metadata": {},
     "output_type": "display_data"
    }
   ],
   "source": [
    "h5ad.path <- h5ad.paths[1]\n",
    "h5ad.path"
   ]
  },
  {
   "cell_type": "code",
   "execution_count": 40,
   "id": "bbaaef93-7f1e-4aec-86c4-50ba8a2b1f23",
   "metadata": {},
   "outputs": [],
   "source": [
    "# one-indexed rather than zero.\n",
    "h5.idx.in <- h5read(h5ad.path, \"/X/indices\") + 1\n",
    "# R still reads this as zero-indexed\n",
    "h5.idp.in <- h5read(h5ad.path, \"/X/indptr\")\n",
    "h5.val.in <- h5read(h5ad.path, \"/X/data\")"
   ]
  },
  {
   "cell_type": "code",
   "execution_count": null,
   "id": "4dab6433-7274-44b3-9cab-a56e0dab505c",
   "metadata": {},
   "outputs": [],
   "source": []
  },
  {
   "cell_type": "code",
   "execution_count": null,
   "id": "32679993-89d0-47bf-9a25-d29983a9d5d6",
   "metadata": {},
   "outputs": [],
   "source": []
  }
 ],
 "metadata": {
  "kernelspec": {
   "display_name": "SpatialStem 4.3.1",
   "language": "R",
   "name": "spatialstem431"
  },
  "language_info": {
   "codemirror_mode": "r",
   "file_extension": ".r",
   "mimetype": "text/x-r-source",
   "name": "R",
   "pygments_lexer": "r",
   "version": "4.3.1"
  }
 },
 "nbformat": 4,
 "nbformat_minor": 5
}
