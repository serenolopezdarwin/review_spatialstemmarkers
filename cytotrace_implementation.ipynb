{
 "cells": [
  {
   "cell_type": "code",
   "execution_count": 1,
   "id": "d39040c5-2225-49a9-8ec1-5c72b9d41a20",
   "metadata": {},
   "outputs": [],
   "source": [
    "suppressPackageStartupMessages(suppressWarnings({\n",
    "library(rhdf5)\n",
    "library(Matrix)\n",
    "}))"
   ]
  },
  {
   "cell_type": "code",
   "execution_count": 5,
   "id": "816bb81a-7c4a-45a0-a546-d400510907f0",
   "metadata": {},
   "outputs": [],
   "source": [
    "prj.dir <- \"/scratch/gpfs/KANG/sereno/spatialstem\"\n",
    "src.dir <- file.path(prj.dir, \"sourcefiles\")\n",
    "raw.dir <- file.path(src.dir, \"raw\")\n",
    "had.dir <- file.path(src.dir, \"h5ad\")\n",
    "int.dir <- file.path(prj.dir, \"intermediates\")\n",
    "fig.dir <- file.path(prj.dir, \"figs\")\n",
    "csv.dir <- file.path(src.dir, \"csv\")\n",
    "exp.dir <- file.path(csv.dir, \"exp\")\n",
    "cor.dir <- file.path(csv.dir, \"coords\")"
   ]
  },
  {
   "cell_type": "code",
   "execution_count": 9,
   "id": "84e31e04-d974-468a-8b91-6928e57fb70c",
   "metadata": {},
   "outputs": [],
   "source": [
    "# Function for opening an h5ad file as a formatted 10x object.\n",
    "exp.files <- list.files(exp.dir)\n",
    "exp.paths <- paste0(exp.dir, \"/\", exp.files)"
   ]
  },
  {
   "cell_type": "code",
   "execution_count": 12,
   "id": "6ecd107e-1c8a-4e66-9ebe-45d3f0fab862",
   "metadata": {},
   "outputs": [
    {
     "data": {
      "text/html": [
       "'/scratch/gpfs/KANG/sereno/spatialstem/sourcefiles/csv/exp/p01_fetalliver_exp.csv'"
      ],
      "text/latex": [
       "'/scratch/gpfs/KANG/sereno/spatialstem/sourcefiles/csv/exp/p01\\_fetalliver\\_exp.csv'"
      ],
      "text/markdown": [
       "'/scratch/gpfs/KANG/sereno/spatialstem/sourcefiles/csv/exp/p01_fetalliver_exp.csv'"
      ],
      "text/plain": [
       "[1] \"/scratch/gpfs/KANG/sereno/spatialstem/sourcefiles/csv/exp/p01_fetalliver_exp.csv\""
      ]
     },
     "metadata": {},
     "output_type": "display_data"
    }
   ],
   "source": [
    "exp.paths[1]"
   ]
  },
  {
   "cell_type": "code",
   "execution_count": 11,
   "id": "bbaaef93-7f1e-4aec-86c4-50ba8a2b1f23",
   "metadata": {},
   "outputs": [
    {
     "data": {
      "text/html": [
       "'/scratch/gpfs/KANG/sereno/spatialstem/sourcefiles/csv/exp'"
      ],
      "text/latex": [
       "'/scratch/gpfs/KANG/sereno/spatialstem/sourcefiles/csv/exp'"
      ],
      "text/markdown": [
       "'/scratch/gpfs/KANG/sereno/spatialstem/sourcefiles/csv/exp'"
      ],
      "text/plain": [
       "[1] \"/scratch/gpfs/KANG/sereno/spatialstem/sourcefiles/csv/exp\""
      ]
     },
     "metadata": {},
     "output_type": "display_data"
    }
   ],
   "source": []
  },
  {
   "cell_type": "code",
   "execution_count": null,
   "id": "4dab6433-7274-44b3-9cab-a56e0dab505c",
   "metadata": {},
   "outputs": [],
   "source": []
  },
  {
   "cell_type": "code",
   "execution_count": null,
   "id": "32679993-89d0-47bf-9a25-d29983a9d5d6",
   "metadata": {},
   "outputs": [],
   "source": []
  }
 ],
 "metadata": {
  "kernelspec": {
   "display_name": "SpatialStem 4.3.1",
   "language": "R",
   "name": "spatialstem431"
  },
  "language_info": {
   "codemirror_mode": "r",
   "file_extension": ".r",
   "mimetype": "text/x-r-source",
   "name": "R",
   "pygments_lexer": "r",
   "version": "4.3.1"
  }
 },
 "nbformat": 4,
 "nbformat_minor": 5
}
