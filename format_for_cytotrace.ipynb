{
 "cells": [
  {
   "cell_type": "code",
   "execution_count": 1,
   "id": "85cf0ce6-da25-4a1b-87a9-af94b43bf316",
   "metadata": {},
   "outputs": [],
   "source": [
    "# Imports\n",
    "import csv\n",
    "import glob2\n",
    "import pandas as pd\n",
    "import matplotlib.pyplot as plt\n",
    "import mygene\n",
    "import numpy as np\n",
    "import scanpy as sc\n",
    "import squidpy as sq\n",
    "import warnings\n",
    "from anndata import AnnData\n",
    "from gseapy import Biomart\n",
    "from scipy import sparse"
   ]
  },
  {
   "cell_type": "code",
   "execution_count": 2,
   "id": "b2e154d1-f181-4c40-b4bc-1ac3223b535c",
   "metadata": {},
   "outputs": [],
   "source": [
    "# Globals\n",
    "PRJ_DIR = \"/scratch/gpfs/KANG/sereno/spatialstem\"\n",
    "SRC_DIR = f\"{PRJ_DIR}/sourcefiles\"\n",
    "RAW_DIR = f\"{SRC_DIR}/raw\"\n",
    "HAD_DIR = f\"{SRC_DIR}/h5ad\"\n",
    "CSV_DIR = f\"{SRC_DIR}/csv\"\n",
    "EXP_DIR = f\"{CSV_DIR}/exp\"\n",
    "COR_DIR = f\"{CSV_DIR}/coords\"\n",
    "INT_DIR = f\"{PRJ_DIR}/intermediates\"\n",
    "FIG_DIR = f\"{PRJ_DIR}/figs\""
   ]
  },
  {
   "cell_type": "code",
   "execution_count": 13,
   "id": "6fed6392-7ee0-4237-b3c7-7eca2c7f291f",
   "metadata": {},
   "outputs": [],
   "source": [
    "# Get paths of H5 datasets.\n",
    "h5ad_paths = glob2.glob(f\"{HAD_DIR}/*.h5ad\")\n",
    "h5ad_paths.sort()"
   ]
  },
  {
   "cell_type": "code",
   "execution_count": 15,
   "id": "648f773d-d491-41ea-971b-903af98a6b36",
   "metadata": {
    "scrolled": true
   },
   "outputs": [
    {
     "name": "stdout",
     "output_type": "stream",
     "text": [
      "0: p01_fetalliver_A1 formatted for cytotrace\n",
      "1: p01_fetalliver_D1 formatted for cytotrace\n",
      "2: p01_fetalspleen_A1 formatted for cytotrace\n",
      "3: p01_fetalspleen_B1 formatted for cytotrace\n",
      "4: p01_fetalspleen_C1 formatted for cytotrace\n",
      "5: p01_fetalthymus_B1 formatted for cytotrace\n",
      "6: p01_fetalthymus_C1 formatted for cytotrace\n",
      "7: p02_largeintestine1 formatted for cytotrace\n"
     ]
    }
   ],
   "source": [
    "i = 0\n",
    "for h5ad_path in h5ad_paths:\n",
    "    ad = sc.read_h5ad(h5ad_path)\n",
    "    h5ad_label = h5ad_path.replace(f\"{HAD_DIR}/\", \"\").replace(\".h5ad\", \"\")\n",
    "    # Chance of lowest non-zero value being a perfect integer in log-normalized data is practically zero.\n",
    "    test_count = ad.X[np.nonzero(ad.X)].min(axis=None)\n",
    "    # Skips log-normalized data: cytotrace needs raw data!\n",
    "    if not test_count.is_integer():\n",
    "        print(f\"{str(i)}: {h5ad_label} skipped: log-normalized data\")\n",
    "        i += 1\n",
    "        continue\n",
    "    csv_out_path = f\"{EXP_DIR}/{h5ad_label}_exp.csv\"\n",
    "    spatial_out_path = f\"{COR_DIR}/{h5ad_label}_coords.csv\"\n",
    "    # More memory efficient to call todense directly in the constructor\n",
    "    # Also note that CytoTrace needs genes in rows and cells in columns\n",
    "    gene_index = list(ad.var[\"human_symbol\"])\n",
    "    cell_col = range(1, ad.X.shape[0]+1)\n",
    "    exp_mat_arr = np.array(ad.X.todense().transpose(), dtype='i4')\n",
    "    exp_mat_df = pd.DataFrame(data=exp_mat_arr, index=gene_index, columns=cell_col)\n",
    "    exp_mat_df.to_csv(csv_out_path)\n",
    "    spatial_coords = ad.obsm[\"spatial\"]\n",
    "    np.savetxt(spatial_out_path, spatial_coords, delimiter=\",\", fmt='%f')\n",
    "    print(f\"{str(i)}: {h5ad_label} formatted for cytotrace\")\n",
    "    i += 1\n",
    "    if h5ad_label[0:3]!=\"p01\":\n",
    "        break"
   ]
  },
  {
   "cell_type": "code",
   "execution_count": null,
   "id": "3c9508d2-8fef-4042-8160-ab850f636e67",
   "metadata": {},
   "outputs": [],
   "source": []
  }
 ],
 "metadata": {
  "kernelspec": {
   "display_name": "spatialstem-py311",
   "language": "python",
   "name": "spatialstem-py311"
  },
  "language_info": {
   "codemirror_mode": {
    "name": "ipython",
    "version": 3
   },
   "file_extension": ".py",
   "mimetype": "text/x-python",
   "name": "python",
   "nbconvert_exporter": "python",
   "pygments_lexer": "ipython3",
   "version": "3.11.8"
  }
 },
 "nbformat": 4,
 "nbformat_minor": 5
}
