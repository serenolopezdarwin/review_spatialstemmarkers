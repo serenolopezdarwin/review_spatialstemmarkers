{
 "cells": [
  {
   "cell_type": "code",
   "execution_count": 88,
   "id": "096fbe58-58f0-40cf-861e-6b838fd365ff",
   "metadata": {
    "jupyter": {
     "source_hidden": true
    }
   },
   "outputs": [],
   "source": [
    "# Imports\n",
    "suppressWarnings(suppressPackageStartupMessages({\n",
    "    library(Seurat)\n",
    "    library(DropletUtils)\n",
    "}))"
   ]
  },
  {
   "cell_type": "code",
   "execution_count": 8,
   "id": "a2a28e69-8aec-429e-b259-e4735339967e",
   "metadata": {
    "jupyter": {
     "source_hidden": true
    }
   },
   "outputs": [],
   "source": [
    "# Globals\n",
    "prj.dir <- \"/scratch/gpfs/KANG/sereno/spatialstem\"\n",
    "src.dir <- file.path(prj.dir, \"sourcefiles\")\n",
    "raw.dir <- file.path(src.dir, \"raw\")\n",
    "had.dir <- file.path(src.dir, \"h5ad\")\n",
    "int.dir <- file.path(prj.dir, \"intermediates\")\n",
    "fig.dir <- file.path(prj.dir, \"fig\")"
   ]
  },
  {
   "cell_type": "code",
   "execution_count": 72,
   "id": "1fd78b6c-cc98-44a7-b37e-70179e0e0af9",
   "metadata": {
    "jupyter": {
     "source_hidden": true
    }
   },
   "outputs": [],
   "source": [
    "# Function for exporting our seurat objects in a scanpy-readable fashion.\n",
    "seurat_to_10x <- function(seur.obj, out.dir) {\n",
    "    seur.data <- GetAssayData(seur.obj)\n",
    "    write10xCounts(path=out.dir, x=seur.data, version=\"3\")\n",
    "    coords <- seur.obj@images[[1]]@coordinates[, c(\"row\", \"col\")]\n",
    "    coord.path <- file.path(out.dir, \"coords.csv\")\n",
    "    write.table(coords, file=coord.path, sep=\",\", quote=FALSE, row.names=FALSE, col.names=FALSE)\n",
    "}"
   ]
  },
  {
   "cell_type": "code",
   "execution_count": 51,
   "id": "234f2b07-28bb-4171-b3fd-79a1ecab9339",
   "metadata": {
    "jupyter": {
     "source_hidden": true
    }
   },
   "outputs": [],
   "source": [
    "# Larouche: Spatiotemporal mapping of immune and stem cell dysregulation after volumetric muscle loss\n",
    "laro.dir <- file.path(raw.dir, \"pub4_larouche\")\n",
    "mm.file <- file.path(laro.dir, \"GSE205707_Mus_ST_list_label_transfer_1201.RDS\")\n",
    "ca.file <- file.path(laro.dir, \"GSE205707_Canis_ST_list.RDS\")"
   ]
  },
  {
   "cell_type": "code",
   "execution_count": 54,
   "id": "7ac9fea3-030f-43af-be76-d750e8c983d5",
   "metadata": {
    "collapsed": true,
    "jupyter": {
     "outputs_hidden": true,
     "source_hidden": true
    }
   },
   "outputs": [
    {
     "data": {
      "text/plain": [
       "$PBS_599L\n",
       "An object of class Seurat \n",
       "47291 features across 721 samples within 3 assays \n",
       "Active assay: SCT (14982 features, 3000 variable features)\n",
       " 3 layers present: counts, data, scale.data\n",
       " 2 other assays present: Spatial, predictions\n",
       " 2 dimensional reductions calculated: pca, umap\n",
       " 1 image present: PBS_599L\n",
       "\n",
       "$ITD1_599R\n",
       "An object of class Seurat \n",
       "47224 features across 866 samples within 3 assays \n",
       "Active assay: SCT (14915 features, 3000 variable features)\n",
       " 3 layers present: counts, data, scale.data\n",
       " 2 other assays present: Spatial, predictions\n",
       " 2 dimensional reductions calculated: pca, umap\n",
       " 1 image present: ITD1_599R\n",
       "\n",
       "$ITD1_600L\n",
       "An object of class Seurat \n",
       "47646 features across 654 samples within 3 assays \n",
       "Active assay: SCT (15337 features, 3000 variable features)\n",
       " 3 layers present: counts, data, scale.data\n",
       " 2 other assays present: Spatial, predictions\n",
       " 2 dimensional reductions calculated: pca, umap\n",
       " 1 image present: ITD1_600L\n",
       "\n",
       "$PBS_600R\n",
       "An object of class Seurat \n",
       "47284 features across 762 samples within 3 assays \n",
       "Active assay: SCT (14975 features, 3000 variable features)\n",
       " 3 layers present: counts, data, scale.data\n",
       " 2 other assays present: Spatial, predictions\n",
       " 2 dimensional reductions calculated: pca, umap\n",
       " 1 image present: PBS_600R\n",
       "\n",
       "$PBS_1197L\n",
       "An object of class Seurat \n",
       "47205 features across 796 samples within 3 assays \n",
       "Active assay: SCT (14896 features, 3000 variable features)\n",
       " 3 layers present: counts, data, scale.data\n",
       " 2 other assays present: Spatial, predictions\n",
       " 2 dimensional reductions calculated: pca, umap\n",
       " 1 image present: PBS_1197L\n",
       "\n",
       "$PBS_1203L\n",
       "An object of class Seurat \n",
       "47285 features across 660 samples within 3 assays \n",
       "Active assay: SCT (14976 features, 3000 variable features)\n",
       " 3 layers present: counts, data, scale.data\n",
       " 2 other assays present: Spatial, predictions\n",
       " 2 dimensional reductions calculated: pca, umap\n",
       " 1 image present: PBS_1203L\n",
       "\n",
       "$ITD1_1203R\n",
       "An object of class Seurat \n",
       "48153 features across 895 samples within 3 assays \n",
       "Active assay: SCT (15844 features, 3000 variable features)\n",
       " 3 layers present: counts, data, scale.data\n",
       " 2 other assays present: Spatial, predictions\n",
       " 2 dimensional reductions calculated: pca, umap\n",
       " 1 image present: ITD1_1203R\n",
       "\n",
       "$ITD1_1202L\n",
       "An object of class Seurat \n",
       "47516 features across 633 samples within 3 assays \n",
       "Active assay: SCT (15207 features, 3000 variable features)\n",
       " 3 layers present: counts, data, scale.data\n",
       " 2 other assays present: Spatial, predictions\n",
       " 2 dimensional reductions calculated: pca, umap\n",
       " 1 image present: ITD1_1202L\n",
       "\n",
       "$`Sample_6834-JL-S1-A-GEX_GCGGGTAA-CTTAGTGC`\n",
       "An object of class Seurat \n",
       "46994 features across 708 samples within 3 assays \n",
       "Active assay: SCT (14685 features, 3000 variable features)\n",
       " 3 layers present: counts, data, scale.data\n",
       " 2 other assays present: Spatial, predictions\n",
       " 2 dimensional reductions calculated: pca, umap\n",
       " 1 image present: D14_Mouse_1\n",
       "\n",
       "$`Sample_6834-JL-S1-B-GEX_CCTATCCT-GTTAGTAT`\n",
       "An object of class Seurat \n",
       "46813 features across 569 samples within 3 assays \n",
       "Active assay: SCT (14504 features, 3000 variable features)\n",
       " 3 layers present: counts, data, scale.data\n",
       " 2 other assays present: Spatial, predictions\n",
       " 2 dimensional reductions calculated: pca, umap\n",
       " 1 image present: D14_Mouse_2\n"
      ]
     },
     "metadata": {},
     "output_type": "display_data"
    }
   ],
   "source": [
    "# Larouche: get mouse data and set labels\n",
    "mm.seurs <- readRDS(mm.file)\n",
    "mm.seurs\n",
    "mm.labels <- c(\"PBS1\", \"ITD1\", \"ITD2\", \"PBS2\", \"PBS3\", \"PBS4\", \"ITD3\", \"ITD4\", \"D141\", \"D142\")"
   ]
  },
  {
   "cell_type": "code",
   "execution_count": 83,
   "id": "5420bd19-99c2-459e-9cbb-085d9233584d",
   "metadata": {
    "jupyter": {
     "source_hidden": true
    }
   },
   "outputs": [],
   "source": [
    "# Larouche: save mouse data\n",
    "for (idx in seq(1:length(mm.seurs))) {\n",
    "    mm.seur <- mm.seurs[[idx]]\n",
    "    mm.label <- paste0(\"mm\", mm.labels[[idx]])\n",
    "    out.dir <- file.path(laro.dir, mm.label)\n",
    "    seurat_to_10x(mm.seur, out.dir)\n",
    "}"
   ]
  },
  {
   "cell_type": "code",
   "execution_count": 86,
   "id": "163a24fd-b378-49d7-a7c8-e5667a2fb155",
   "metadata": {
    "collapsed": true,
    "jupyter": {
     "outputs_hidden": true,
     "source_hidden": true
    }
   },
   "outputs": [
    {
     "data": {
      "text/plain": [
       "$`Sample_5513-JL-S2-A_CGCGCACT-AGAATACA`\n",
       "An object of class Seurat \n",
       "46272 features across 2888 samples within 2 assays \n",
       "Active assay: SCT (13568 features, 3000 variable features)\n",
       " 3 layers present: counts, data, scale.data\n",
       " 1 other assay present: Spatial\n",
       " 2 dimensional reductions calculated: pca, umap\n",
       " 1 image present: D7_Mid_1\n",
       "\n",
       "$`Sample_5513-JL-S2-B_CCTGTCAG-GTTACGGG`\n",
       "An object of class Seurat \n",
       "45087 features across 1704 samples within 2 assays \n",
       "Active assay: SCT (12383 features, 3000 variable features)\n",
       " 3 layers present: counts, data, scale.data\n",
       " 1 other assay present: Spatial\n",
       " 2 dimensional reductions calculated: pca, umap\n",
       " 1 image present: D7_Edge_1\n",
       "\n",
       "$`Sample_5513-JL-S2-C_GTCCTTCG-CTGTGCAT`\n",
       "An object of class Seurat \n",
       "45282 features across 2099 samples within 2 assays \n",
       "Active assay: SCT (12578 features, 3000 variable features)\n",
       " 3 layers present: counts, data, scale.data\n",
       " 1 other assay present: Spatial\n",
       " 2 dimensional reductions calculated: pca, umap\n",
       " 1 image present: D14_Mid_1\n",
       "\n",
       "$`Sample_5513-JL-S2-D_AATGTATC-TAAGCTCA`\n",
       "An object of class Seurat \n",
       "45235 features across 1945 samples within 2 assays \n",
       "Active assay: SCT (12531 features, 3000 variable features)\n",
       " 3 layers present: counts, data, scale.data\n",
       " 1 other assay present: Spatial\n",
       " 2 dimensional reductions calculated: pca, umap\n",
       " 1 image present: D14_Edge_1\n",
       "\n",
       "$`Sample_6539-JL-S1-A_GTGGATCAAA-CAGGGTTGGC`\n",
       "An object of class Seurat \n",
       "40773 features across 3122 samples within 2 assays \n",
       "Active assay: SCT (8069 features, 3000 variable features)\n",
       " 3 layers present: counts, data, scale.data\n",
       " 1 other assay present: Spatial\n",
       " 2 dimensional reductions calculated: pca, umap\n",
       " 1 image present: D0_Intact_R1\n",
       "\n",
       "$`Sample_6833-JL-S1-A_TGTCCCAA-TGGACATC`\n",
       "An object of class Seurat \n",
       "42059 features across 3393 samples within 2 assays \n",
       "Active assay: SCT (9355 features, 3000 variable features)\n",
       " 3 layers present: counts, data, scale.data\n",
       " 1 other assay present: Spatial\n",
       " 2 dimensional reductions calculated: pca, umap\n",
       " 1 image present: D0_Intact_R2\n",
       "\n",
       "$`Sample_6834-JL-S1-C-GEX_TCCCAAGG-AAAGGTAG`\n",
       "An object of class Seurat \n",
       "45898 features across 2432 samples within 2 assays \n",
       "Active assay: SCT (13194 features, 3000 variable features)\n",
       " 3 layers present: counts, data, scale.data\n",
       " 1 other assay present: Spatial\n",
       " 2 dimensional reductions calculated: pca, umap\n",
       " 1 image present: D7_Mid_2\n",
       "\n",
       "$`Sample_6834-JL-S1-D-GEX_GCCTTCGG-AAATCGTT`\n",
       "An object of class Seurat \n",
       "45914 features across 2600 samples within 2 assays \n",
       "Active assay: SCT (13210 features, 3000 variable features)\n",
       " 3 layers present: counts, data, scale.data\n",
       " 1 other assay present: Spatial\n",
       " 2 dimensional reductions calculated: pca, umap\n",
       " 1 image present: D14_Mid_2\n"
      ]
     },
     "metadata": {},
     "output_type": "display_data"
    }
   ],
   "source": [
    "# Larouche: get canine data and set labels\n",
    "ca.seurs <- readRDS(ca.file)\n",
    "ca.seurs\n",
    "ca.labels <- c(\"D7M1\", \"D7E1\", \"D14M1\", \"D14E1\", \"D0IR1\", \"D0IR2\", \"D7M2\", \"D14M2\")"
   ]
  },
  {
   "cell_type": "code",
   "execution_count": 87,
   "id": "f0dac3ee-9a9c-4dad-80b9-8642ee6d7587",
   "metadata": {
    "jupyter": {
     "source_hidden": true
    }
   },
   "outputs": [],
   "source": [
    "# Larouche: save canine data.\n",
    "for (idx in seq(1:length(ca.seurs))) {\n",
    "    ca.seur <- ca.seurs[[idx]]\n",
    "    ca.label <- paste0(\"ca\", ca.labels[[idx]])\n",
    "    out.dir <- file.path(laro.dir, ca.label)\n",
    "    seurat_to_10x(ca.seur, out.dir)\n",
    "}"
   ]
  },
  {
   "cell_type": "code",
   "execution_count": null,
   "id": "2592d2e6-6e2a-4386-ad1d-1ccb6b550e30",
   "metadata": {},
   "outputs": [],
   "source": []
  }
 ],
 "metadata": {
  "kernelspec": {
   "display_name": "SpatialStem 4.3.1",
   "language": "R",
   "name": "spatialstem431"
  },
  "language_info": {
   "codemirror_mode": "r",
   "file_extension": ".r",
   "mimetype": "text/x-r-source",
   "name": "R",
   "pygments_lexer": "r",
   "version": "4.3.1"
  }
 },
 "nbformat": 4,
 "nbformat_minor": 5
}
