{
 "cells": [
  {
   "cell_type": "code",
   "execution_count": 38,
   "id": "096fbe58-58f0-40cf-861e-6b838fd365ff",
   "metadata": {
    "jupyter": {
     "source_hidden": true
    }
   },
   "outputs": [],
   "source": [
    "# Imports\n",
    "suppressWarnings(suppressPackageStartupMessages({\n",
    "    library(Seurat)\n",
    "    library(DropletUtils)\n",
    "    library(scCustomize)\n",
    "    library(rhdf5)\n",
    "}))"
   ]
  },
  {
   "cell_type": "code",
   "execution_count": 3,
   "id": "a2a28e69-8aec-429e-b259-e4735339967e",
   "metadata": {
    "jupyter": {
     "source_hidden": true
    }
   },
   "outputs": [],
   "source": [
    "# Globals\n",
    "prj.dir <- \"/scratch/gpfs/KANG/sereno/spatialstem\"\n",
    "src.dir <- file.path(prj.dir, \"sourcefiles\")\n",
    "raw.dir <- file.path(src.dir, \"raw\")\n",
    "had.dir <- file.path(src.dir, \"h5ad\")\n",
    "int.dir <- file.path(prj.dir, \"intermediates\")\n",
    "fig.dir <- file.path(prj.dir, \"fig\")"
   ]
  },
  {
   "cell_type": "code",
   "execution_count": 72,
   "id": "1fd78b6c-cc98-44a7-b37e-70179e0e0af9",
   "metadata": {
    "jupyter": {
     "source_hidden": true
    }
   },
   "outputs": [],
   "source": [
    "# Function for exporting our seurat objects in a scanpy-readable fashion.\n",
    "seurat_to_10x <- function(seur.obj, out.dir) {\n",
    "    seur.data <- GetAssayData(seur.obj)\n",
    "    write10xCounts(path=out.dir, x=seur.data, version=\"3\")\n",
    "    coords <- seur.obj@images[[1]]@coordinates[, c(\"row\", \"col\")]\n",
    "    coord.path <- file.path(out.dir, \"coords.csv\")\n",
    "    write.table(coords, file=coord.path, sep=\",\", quote=FALSE, row.names=FALSE, col.names=FALSE)\n",
    "}"
   ]
  },
  {
   "cell_type": "code",
   "execution_count": 51,
   "id": "234f2b07-28bb-4171-b3fd-79a1ecab9339",
   "metadata": {
    "jupyter": {
     "source_hidden": true
    }
   },
   "outputs": [],
   "source": [
    "# Larouche: Spatiotemporal mapping of immune and stem cell dysregulation after volumetric muscle loss\n",
    "laro.dir <- file.path(raw.dir, \"pub4_larouche\")\n",
    "mm.file <- file.path(laro.dir, \"GSE205707_Mus_ST_list_label_transfer_1201.RDS\")\n",
    "ca.file <- file.path(laro.dir, \"GSE205707_Canis_ST_list.RDS\")"
   ]
  },
  {
   "cell_type": "code",
   "execution_count": 54,
   "id": "7ac9fea3-030f-43af-be76-d750e8c983d5",
   "metadata": {
    "collapsed": true,
    "jupyter": {
     "outputs_hidden": true,
     "source_hidden": true
    }
   },
   "outputs": [
    {
     "data": {
      "text/plain": [
       "$PBS_599L\n",
       "An object of class Seurat \n",
       "47291 features across 721 samples within 3 assays \n",
       "Active assay: SCT (14982 features, 3000 variable features)\n",
       " 3 layers present: counts, data, scale.data\n",
       " 2 other assays present: Spatial, predictions\n",
       " 2 dimensional reductions calculated: pca, umap\n",
       " 1 image present: PBS_599L\n",
       "\n",
       "$ITD1_599R\n",
       "An object of class Seurat \n",
       "47224 features across 866 samples within 3 assays \n",
       "Active assay: SCT (14915 features, 3000 variable features)\n",
       " 3 layers present: counts, data, scale.data\n",
       " 2 other assays present: Spatial, predictions\n",
       " 2 dimensional reductions calculated: pca, umap\n",
       " 1 image present: ITD1_599R\n",
       "\n",
       "$ITD1_600L\n",
       "An object of class Seurat \n",
       "47646 features across 654 samples within 3 assays \n",
       "Active assay: SCT (15337 features, 3000 variable features)\n",
       " 3 layers present: counts, data, scale.data\n",
       " 2 other assays present: Spatial, predictions\n",
       " 2 dimensional reductions calculated: pca, umap\n",
       " 1 image present: ITD1_600L\n",
       "\n",
       "$PBS_600R\n",
       "An object of class Seurat \n",
       "47284 features across 762 samples within 3 assays \n",
       "Active assay: SCT (14975 features, 3000 variable features)\n",
       " 3 layers present: counts, data, scale.data\n",
       " 2 other assays present: Spatial, predictions\n",
       " 2 dimensional reductions calculated: pca, umap\n",
       " 1 image present: PBS_600R\n",
       "\n",
       "$PBS_1197L\n",
       "An object of class Seurat \n",
       "47205 features across 796 samples within 3 assays \n",
       "Active assay: SCT (14896 features, 3000 variable features)\n",
       " 3 layers present: counts, data, scale.data\n",
       " 2 other assays present: Spatial, predictions\n",
       " 2 dimensional reductions calculated: pca, umap\n",
       " 1 image present: PBS_1197L\n",
       "\n",
       "$PBS_1203L\n",
       "An object of class Seurat \n",
       "47285 features across 660 samples within 3 assays \n",
       "Active assay: SCT (14976 features, 3000 variable features)\n",
       " 3 layers present: counts, data, scale.data\n",
       " 2 other assays present: Spatial, predictions\n",
       " 2 dimensional reductions calculated: pca, umap\n",
       " 1 image present: PBS_1203L\n",
       "\n",
       "$ITD1_1203R\n",
       "An object of class Seurat \n",
       "48153 features across 895 samples within 3 assays \n",
       "Active assay: SCT (15844 features, 3000 variable features)\n",
       " 3 layers present: counts, data, scale.data\n",
       " 2 other assays present: Spatial, predictions\n",
       " 2 dimensional reductions calculated: pca, umap\n",
       " 1 image present: ITD1_1203R\n",
       "\n",
       "$ITD1_1202L\n",
       "An object of class Seurat \n",
       "47516 features across 633 samples within 3 assays \n",
       "Active assay: SCT (15207 features, 3000 variable features)\n",
       " 3 layers present: counts, data, scale.data\n",
       " 2 other assays present: Spatial, predictions\n",
       " 2 dimensional reductions calculated: pca, umap\n",
       " 1 image present: ITD1_1202L\n",
       "\n",
       "$`Sample_6834-JL-S1-A-GEX_GCGGGTAA-CTTAGTGC`\n",
       "An object of class Seurat \n",
       "46994 features across 708 samples within 3 assays \n",
       "Active assay: SCT (14685 features, 3000 variable features)\n",
       " 3 layers present: counts, data, scale.data\n",
       " 2 other assays present: Spatial, predictions\n",
       " 2 dimensional reductions calculated: pca, umap\n",
       " 1 image present: D14_Mouse_1\n",
       "\n",
       "$`Sample_6834-JL-S1-B-GEX_CCTATCCT-GTTAGTAT`\n",
       "An object of class Seurat \n",
       "46813 features across 569 samples within 3 assays \n",
       "Active assay: SCT (14504 features, 3000 variable features)\n",
       " 3 layers present: counts, data, scale.data\n",
       " 2 other assays present: Spatial, predictions\n",
       " 2 dimensional reductions calculated: pca, umap\n",
       " 1 image present: D14_Mouse_2\n"
      ]
     },
     "metadata": {},
     "output_type": "display_data"
    }
   ],
   "source": [
    "# Larouche: get mouse data and set labels\n",
    "mm.seurs <- readRDS(mm.file)\n",
    "mm.seurs\n",
    "mm.labels <- c(\"PBS1\", \"ITD1\", \"ITD2\", \"PBS2\", \"PBS3\", \"PBS4\", \"ITD3\", \"ITD4\", \"D141\", \"D142\")"
   ]
  },
  {
   "cell_type": "code",
   "execution_count": 83,
   "id": "5420bd19-99c2-459e-9cbb-085d9233584d",
   "metadata": {
    "jupyter": {
     "source_hidden": true
    }
   },
   "outputs": [],
   "source": [
    "# Larouche: save mouse data\n",
    "for (idx in seq(1:length(mm.seurs))) {\n",
    "    mm.seur <- mm.seurs[[idx]]\n",
    "    mm.label <- paste0(\"mm\", mm.labels[[idx]])\n",
    "    out.dir <- file.path(laro.dir, mm.label)\n",
    "    seurat_to_10x(mm.seur, out.dir)\n",
    "}"
   ]
  },
  {
   "cell_type": "code",
   "execution_count": 86,
   "id": "163a24fd-b378-49d7-a7c8-e5667a2fb155",
   "metadata": {
    "collapsed": true,
    "jupyter": {
     "outputs_hidden": true,
     "source_hidden": true
    }
   },
   "outputs": [
    {
     "data": {
      "text/plain": [
       "$`Sample_5513-JL-S2-A_CGCGCACT-AGAATACA`\n",
       "An object of class Seurat \n",
       "46272 features across 2888 samples within 2 assays \n",
       "Active assay: SCT (13568 features, 3000 variable features)\n",
       " 3 layers present: counts, data, scale.data\n",
       " 1 other assay present: Spatial\n",
       " 2 dimensional reductions calculated: pca, umap\n",
       " 1 image present: D7_Mid_1\n",
       "\n",
       "$`Sample_5513-JL-S2-B_CCTGTCAG-GTTACGGG`\n",
       "An object of class Seurat \n",
       "45087 features across 1704 samples within 2 assays \n",
       "Active assay: SCT (12383 features, 3000 variable features)\n",
       " 3 layers present: counts, data, scale.data\n",
       " 1 other assay present: Spatial\n",
       " 2 dimensional reductions calculated: pca, umap\n",
       " 1 image present: D7_Edge_1\n",
       "\n",
       "$`Sample_5513-JL-S2-C_GTCCTTCG-CTGTGCAT`\n",
       "An object of class Seurat \n",
       "45282 features across 2099 samples within 2 assays \n",
       "Active assay: SCT (12578 features, 3000 variable features)\n",
       " 3 layers present: counts, data, scale.data\n",
       " 1 other assay present: Spatial\n",
       " 2 dimensional reductions calculated: pca, umap\n",
       " 1 image present: D14_Mid_1\n",
       "\n",
       "$`Sample_5513-JL-S2-D_AATGTATC-TAAGCTCA`\n",
       "An object of class Seurat \n",
       "45235 features across 1945 samples within 2 assays \n",
       "Active assay: SCT (12531 features, 3000 variable features)\n",
       " 3 layers present: counts, data, scale.data\n",
       " 1 other assay present: Spatial\n",
       " 2 dimensional reductions calculated: pca, umap\n",
       " 1 image present: D14_Edge_1\n",
       "\n",
       "$`Sample_6539-JL-S1-A_GTGGATCAAA-CAGGGTTGGC`\n",
       "An object of class Seurat \n",
       "40773 features across 3122 samples within 2 assays \n",
       "Active assay: SCT (8069 features, 3000 variable features)\n",
       " 3 layers present: counts, data, scale.data\n",
       " 1 other assay present: Spatial\n",
       " 2 dimensional reductions calculated: pca, umap\n",
       " 1 image present: D0_Intact_R1\n",
       "\n",
       "$`Sample_6833-JL-S1-A_TGTCCCAA-TGGACATC`\n",
       "An object of class Seurat \n",
       "42059 features across 3393 samples within 2 assays \n",
       "Active assay: SCT (9355 features, 3000 variable features)\n",
       " 3 layers present: counts, data, scale.data\n",
       " 1 other assay present: Spatial\n",
       " 2 dimensional reductions calculated: pca, umap\n",
       " 1 image present: D0_Intact_R2\n",
       "\n",
       "$`Sample_6834-JL-S1-C-GEX_TCCCAAGG-AAAGGTAG`\n",
       "An object of class Seurat \n",
       "45898 features across 2432 samples within 2 assays \n",
       "Active assay: SCT (13194 features, 3000 variable features)\n",
       " 3 layers present: counts, data, scale.data\n",
       " 1 other assay present: Spatial\n",
       " 2 dimensional reductions calculated: pca, umap\n",
       " 1 image present: D7_Mid_2\n",
       "\n",
       "$`Sample_6834-JL-S1-D-GEX_GCCTTCGG-AAATCGTT`\n",
       "An object of class Seurat \n",
       "45914 features across 2600 samples within 2 assays \n",
       "Active assay: SCT (13210 features, 3000 variable features)\n",
       " 3 layers present: counts, data, scale.data\n",
       " 1 other assay present: Spatial\n",
       " 2 dimensional reductions calculated: pca, umap\n",
       " 1 image present: D14_Mid_2\n"
      ]
     },
     "metadata": {},
     "output_type": "display_data"
    }
   ],
   "source": [
    "# Larouche: get canine data and set labels\n",
    "ca.seurs <- readRDS(ca.file)\n",
    "ca.seurs\n",
    "ca.labels <- c(\"D7M1\", \"D7E1\", \"D14M1\", \"D14E1\", \"D0IR1\", \"D0IR2\", \"D7M2\", \"D14M2\")"
   ]
  },
  {
   "cell_type": "code",
   "execution_count": 87,
   "id": "f0dac3ee-9a9c-4dad-80b9-8642ee6d7587",
   "metadata": {
    "jupyter": {
     "source_hidden": true
    }
   },
   "outputs": [],
   "source": [
    "# Larouche: save canine data.\n",
    "for (idx in seq(1:length(ca.seurs))) {\n",
    "    ca.seur <- ca.seurs[[idx]]\n",
    "    ca.label <- paste0(\"ca\", ca.labels[[idx]])\n",
    "    out.dir <- file.path(laro.dir, ca.label)\n",
    "    seurat_to_10x(ca.seur, out.dir)\n",
    "}"
   ]
  },
  {
   "cell_type": "code",
   "execution_count": 22,
   "id": "2592d2e6-6e2a-4386-ad1d-1ccb6b550e30",
   "metadata": {},
   "outputs": [
    {
     "data": {
      "text/html": [
       "'/scratch/gpfs/KANG/sereno/spatialstem/sourcefiles/raw/pub8_chen/Sample_3792-FM-S2-A'"
      ],
      "text/latex": [
       "'/scratch/gpfs/KANG/sereno/spatialstem/sourcefiles/raw/pub8\\_chen/Sample\\_3792-FM-S2-A'"
      ],
      "text/markdown": [
       "'/scratch/gpfs/KANG/sereno/spatialstem/sourcefiles/raw/pub8_chen/Sample_3792-FM-S2-A'"
      ],
      "text/plain": [
       "[1] \"/scratch/gpfs/KANG/sereno/spatialstem/sourcefiles/raw/pub8_chen/Sample_3792-FM-S2-A\""
      ]
     },
     "metadata": {},
     "output_type": "display_data"
    }
   ],
   "source": [
    "# Chen: Human neural stem cells restore spatial memory in a transgenic Alzheimer's disease mouse model \n",
    "# by an immunomodulating mechanism\n",
    "chen.dir <- file.path(raw.dir, \"pub8_chen\")\n",
    "chen.paths <- list.files(chen.dir)\n",
    "chen.path.raw <- chen.paths[1]\n",
    "chen.label <- gsub(\"Sample_3792-FM-\", \"\", chen.path.raw)\n",
    "chen.path <- file.path(chen.dir, chen.path.raw)\n",
    "chen.path"
   ]
  },
  {
   "cell_type": "code",
   "execution_count": 36,
   "id": "5df0b17a-6cdc-4708-ba2a-078627d859d7",
   "metadata": {},
   "outputs": [
    {
     "data": {
      "text/plain": [
       "5 x 5 sparse Matrix of class \"dgCMatrix\"\n",
       "        AAACAAGTATCTCCCA-1 AAACAGAGCGACTCCT-1 AAACATTTCCCGGATT-1\n",
       "Xkr4                     .                  .                  .\n",
       "Gm1992                   .                  .                  .\n",
       "Gm19938                  .                  .                  .\n",
       "Gm37381                  .                  .                  .\n",
       "Rp1                      .                  .                  .\n",
       "        AAACCCGAACGAAATC-1 AAACCGGGTAGGTACC-1\n",
       "Xkr4                     .                  .\n",
       "Gm1992                   .                  .\n",
       "Gm19938                  .                  .\n",
       "Gm37381                  .                  .\n",
       "Rp1                      .                  ."
      ]
     },
     "metadata": {},
     "output_type": "display_data"
    }
   ],
   "source": [
    "chen.filt.path <- file.path(chen.path, \"filtered_feature_bc_matrix\")\n",
    "filt.mat <- Read10X(chen.filt.path)\n",
    "filt.mat[1:5, 1:5]"
   ]
  },
  {
   "cell_type": "code",
   "execution_count": 53,
   "id": "d75f0746-266c-4567-826b-d3c80bf23272",
   "metadata": {},
   "outputs": [],
   "source": [
    "h5.out.path <- file.path(chen.path, \"filtered_feature_bc_matrix.h5\")\n",
    "suppressMessages(suppressWarnings(\n",
    "    write10xCounts(path=h5.out.path, x=filt.mat, type=\"HDF5\", version=\"3\", genome=\"mm10\", overwrite=TRUE, \n",
    "        barcodes=colnames(filt.mat), gene.symbol=rownames(filt.mat), gene.id=rownames(filt.mat))\n",
    "))\n",
    "# Create_10X_H5(raw_data_file_path=chen.filt.path, save_file_path=h5.out.path, save_name=chen.label)"
   ]
  },
  {
   "cell_type": "code",
   "execution_count": 52,
   "id": "50456ac5-0a21-4e26-95e7-59153a238f0e",
   "metadata": {},
   "outputs": [
    {
     "data": {
      "text/html": [
       "'/scratch/gpfs/KANG/sereno/spatialstem/sourcefiles/raw/pub8_chen/Sample_3792-FM-S2-A/filtered_feature_bc_matrix.h5'"
      ],
      "text/latex": [
       "'/scratch/gpfs/KANG/sereno/spatialstem/sourcefiles/raw/pub8\\_chen/Sample\\_3792-FM-S2-A/filtered\\_feature\\_bc\\_matrix.h5'"
      ],
      "text/markdown": [
       "'/scratch/gpfs/KANG/sereno/spatialstem/sourcefiles/raw/pub8_chen/Sample_3792-FM-S2-A/filtered_feature_bc_matrix.h5'"
      ],
      "text/plain": [
       "[1] \"/scratch/gpfs/KANG/sereno/spatialstem/sourcefiles/raw/pub8_chen/Sample_3792-FM-S2-A/filtered_feature_bc_matrix.h5\""
      ]
     },
     "metadata": {},
     "output_type": "display_data"
    }
   ],
   "source": [
    "h5.out.path"
   ]
  },
  {
   "cell_type": "code",
   "execution_count": null,
   "id": "079b217c-563a-4daf-8e6a-5df84caed841",
   "metadata": {},
   "outputs": [],
   "source": []
  }
 ],
 "metadata": {
  "kernelspec": {
   "display_name": "SpatialStem 4.3.1",
   "language": "R",
   "name": "spatialstem431"
  },
  "language_info": {
   "codemirror_mode": "r",
   "file_extension": ".r",
   "mimetype": "text/x-r-source",
   "name": "R",
   "pygments_lexer": "r",
   "version": "4.3.1"
  }
 },
 "nbformat": 4,
 "nbformat_minor": 5
}
