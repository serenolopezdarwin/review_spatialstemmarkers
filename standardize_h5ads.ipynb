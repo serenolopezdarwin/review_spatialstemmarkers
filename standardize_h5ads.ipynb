{
 "cells": [
  {
   "cell_type": "code",
   "execution_count": null,
   "id": "5ec1ae39-6398-4ee8-818a-2ed668387d49",
   "metadata": {},
   "outputs": [],
   "source": [
    "## TODO: Sanity check gene conversion -- need to make sure that merged DBs use same ordering in query\n",
    "# and answer.\n",
    "## Mouse codes\n",
    "## Canine codes"
   ]
  },
  {
   "cell_type": "code",
   "execution_count": null,
   "id": "eedcef65-3a94-4122-8433-4699d9598a71",
   "metadata": {},
   "outputs": [],
   "source": [
    "## This script needs to be run on the head node as mygene queries an online database."
   ]
  },
  {
   "cell_type": "code",
   "execution_count": 11,
   "id": "6122fc33-c458-404b-ac83-c956fcf2494d",
   "metadata": {},
   "outputs": [],
   "source": [
    "# Imports\n",
    "import csv\n",
    "import glob2\n",
    "import pandas as pd\n",
    "import matplotlib.pyplot as plt\n",
    "import mygene\n",
    "import numpy as np\n",
    "import scanpy as sc\n",
    "import squidpy as sq\n",
    "import warnings\n",
    "from anndata import AnnData\n",
    "from gseapy import Biomart\n",
    "from scipy import sparse"
   ]
  },
  {
   "cell_type": "code",
   "execution_count": 12,
   "id": "829a5429-29c2-4b43-9e85-0b044efbe8d2",
   "metadata": {},
   "outputs": [],
   "source": [
    "# Globals\n",
    "PRJ_DIR = \"/scratch/gpfs/KANG/sereno/spatialstem\"\n",
    "SRC_DIR = f\"{PRJ_DIR}/sourcefiles\"\n",
    "RAW_DIR = f\"{SRC_DIR}/raw\"\n",
    "HAD_DIR = f\"{SRC_DIR}/h5ad\"\n",
    "INT_DIR = f\"{PRJ_DIR}/intermediates\"\n",
    "FIG_DIR = f\"{PRJ_DIR}/figs\""
   ]
  },
  {
   "cell_type": "code",
   "execution_count": null,
   "id": "6b159e68-820f-4550-8530-cad8a1e8e819",
   "metadata": {},
   "outputs": [],
   "source": [
    "# Global processor for mouse to human conversion from biomart\n",
    "M2H = bm.query(dataset='mmusculus_gene_ensembl',\n",
    "               attributes=['ensembl_gene_id','external_gene_name',\n",
    "                           'hsapiens_homolog_ensembl_gene',\n",
    "                           'hsapiens_homolog_associated_gene_name'])\n",
    "M2H = M2H.drop_duplicates(subset='ensembl_gene_id')\n",
    "M2H.index = M2H['ensembl_gene_id']\n",
    "C2H = bm.query(dataset='clfamiliaris_gene_ensembl',\n",
    "               attributes=['ensembl_gene_id','external_gene_name',\n",
    "                           'hsapiens_homolog_ensembl_gene',\n",
    "                           'hsapiens_homolog_associated_gene_name'])\n",
    "C2H = C2H.drop_duplicates(subset='ensembl_gene_id')\n",
    "C2H.index = C2H['ensembl_gene_id']"
   ]
  },
  {
   "cell_type": "code",
   "execution_count": 3,
   "id": "33763adb-a68d-4b9e-9994-bc7542c7b2a4",
   "metadata": {},
   "outputs": [],
   "source": [
    "# Get paths of H5 datasets.\n",
    "h5ad_paths = glob2.glob(f\"{HAD_DIR}/*.h5ad\")\n",
    "h5ad_paths.sort()"
   ]
  },
  {
   "cell_type": "code",
   "execution_count": null,
   "id": "a99d1408-f591-4e81-ad70-1ee2daaa948f",
   "metadata": {
    "jupyter": {
     "source_hidden": true
    }
   },
   "outputs": [],
   "source": [
    "# Handles an anndata object with human gene symbols as features by placing them in the correct slot.\n",
    "def handle_human_symbols(ad: AnnData) -> AnnData:\n",
    "    if (\"gene_ids\" in ad.var.keys()):\n",
    "        gene_symbols = list(ad.var[\"gene_ids\"])\n",
    "    elif (\"SYMBOL\" in ad.var.keys()):\n",
    "        gene_symbols = list(ad.var[\"SYMBOL\"])\n",
    "    ad.var[\"human_symbol\"] = gene_symbols\n",
    "    return(ad)"
   ]
  },
  {
   "cell_type": "code",
   "execution_count": null,
   "id": "eb8af529-fe48-4207-9463-29eeb7a571e7",
   "metadata": {
    "jupyter": {
     "source_hidden": true
    }
   },
   "outputs": [],
   "source": [
    "# Handles an anndata object with human gene codes as features by translating them to human symbols.\n",
    "def handle_human_codes(ad: AnnData) -> AnnData:\n",
    "    if (\"gene_ids\" in ad.var.keys()):\n",
    "        gene_list = list(ad.var[\"gene_ids\"])\n",
    "    elif (\"SYMBOL\" in ad.var.keys()):\n",
    "        gene_list = list(ad.var[\"SYMBOL\"])\n",
    "    ad.var[\"human_codes\"] = gene_list\n",
    "    var_idx = list(ad.var.index)\n",
    "    test_idx = var_idx[0]\n",
    "    # Makes sure it's not default indexing.\n",
    "    try:\n",
    "        float(test_idx)\n",
    "    except ValueError:\n",
    "        if (test_idx[0:3]!=\"ENS\"):\n",
    "            gene_symbols = var_idx\n",
    "        else:\n",
    "            gene_symbols = translate_human_gene_codes(gene_list)\n",
    "    ad.var[\"human_symbol\"] = gene_symbols\n",
    "    return(ad)"
   ]
  },
  {
   "cell_type": "code",
   "execution_count": null,
   "id": "cfef720c-deb3-4852-8555-ac755f8c3b13",
   "metadata": {},
   "outputs": [],
   "source": [
    "# Handles an anndata object with mouse gene codes as features by translating them to human symbols.\n",
    "def handle_mouse_codes(ad: AnnData) -> AnnData:\n",
    "    gene_series = ad.var[\"gene_ids\"]\n",
    "    gene_series.index = list(gene_series)\n",
    "    genes_merged = M2H.merge(right=gene_series, how=\"right\", left_index=True, right_index=True)\n",
    "    human_symbols = genes_merged['hsapiens_homolog_associated_gene_name']\n",
    "    ad.var[\"human_symbol\"] = list(human_symbols)\n",
    "    return(ad)"
   ]
  },
  {
   "cell_type": "code",
   "execution_count": null,
   "id": "856dd542-c243-4925-9ef4-ab8d93fe2a76",
   "metadata": {},
   "outputs": [],
   "source": [
    "for gene_id "
   ]
  },
  {
   "cell_type": "code",
   "execution_count": null,
   "id": "b3ca1b39-76c3-4926-af5b-b38001c7b936",
   "metadata": {},
   "outputs": [],
   "source": [
    "# Handles an anndata object with mouse symbols as features by translating them to human symbols.\n",
    "def handle_mouse_symbols(ad: AnnData) -> AnnData:\n",
    "    gene_series = ad.var[\"gene_ids\"]\n",
    "    gene_series.index = list(gene_series)\n",
    "    genes_merged = M2H.merge(right=gene_series, how=\"right\", left_on=\"external_gene_name\", right_index=True)\n",
    "    # Confirmed by all(genes_merged[\"gene_ids\"] == gene_series) to be in same order.\n",
    "    genes_merged = genes_merged.drop_duplicates(subset='external_gene_name')\n",
    "    human_symbols = genes_merged['hsapiens_homolog_associated_gene_name']\n",
    "    ad.var[\"human_symbol\"] = list(human_symbols)\n",
    "    return(ad)"
   ]
  },
  {
   "cell_type": "code",
   "execution_count": null,
   "id": "8853d31f-780c-4da8-b939-24b222605d00",
   "metadata": {},
   "outputs": [],
   "source": [
    "# Handles an anndata object with canine gene codes as features by translating them to human symbols.\n",
    "def handle_canine_codes(ad: AnnData) -> AnnData:\n",
    "    gene_series = ad.var[\"gene_ids\"]\n",
    "    gene_series.index = list(gene_series)\n",
    "    genes_merged = C2H.merge(right=gene_series, how=\"right\", left_index=True, right_index=True)\n",
    "    human_symbols = genes_merged['hsapiens_homolog_associated_gene_name']\n",
    "    ad.var[\"human_symbol\"] = list(human_symbols)\n",
    "    return(ad)"
   ]
  },
  {
   "cell_type": "code",
   "execution_count": null,
   "id": "73e2ca43-03f5-477e-a8dd-6f740cb3d99c",
   "metadata": {
    "jupyter": {
     "source_hidden": true
    }
   },
   "outputs": [],
   "source": [
    "# Gets (human) gene symbols of each (human) gene code in an anndata object,\n",
    "def translate_human_gene_codes(gene_list: list) -> list:\n",
    "    mg = mygene.MyGeneInfo()\n",
    "    gene_info_list = mg.getgenes(gene_list, fields='name, symbol, entrezgene, taxid, ensembl')\n",
    "    # Filters each query to only one gene info entry\n",
    "    queries = [gene_info[\"query\"] for gene_info in gene_info_list]\n",
    "    first_entries = []\n",
    "    # Slow due to index calls...speed up?\n",
    "    for gene_code in gene_list:\n",
    "        first_entry_idx = queries.index(gene_code)\n",
    "        first_entries.append(first_entry_idx)\n",
    "    gene_info_list_cleaned = [gene_info_list[idx] for idx in first_entries]\n",
    "    # Converts to gene symbols and handles missing ones.\n",
    "    gene_symbols = []\n",
    "    missing_n, lncrna_n, tup_n, tpp_n, tec_n, protein_n = 0, 0, 0, 0, 0, 0\n",
    "    tap_n, pp_n, up_n, igv_n, igvp_n, art_n = 0, 0, 0, 0, 0, 0\n",
    "    for gene_info in gene_info_list_cleaned:\n",
    "        try:\n",
    "            gene_symbol = gene_info[\"symbol\"]\n",
    "            gene_symbols.append(gene_symbol)\n",
    "        # Catches genes with no assigned symbol\n",
    "        except KeyError:\n",
    "            try:\n",
    "                gene_type = gene_info[\"ensembl\"][\"type_of_gene\"]\n",
    "            # Handles multiple ensembl ids mapping to one entrez id\n",
    "            except TypeError:\n",
    "                gene_type = gene_info[\"ensembl\"][0][\"type_of_gene\"]\n",
    "            # Handles missing ensembl entries\n",
    "            except KeyError:\n",
    "                gene_type = \"missing\"\n",
    "            match gene_type:\n",
    "                case \"missing\":\n",
    "                    missing_n += 1\n",
    "                    gene_symbols.append(\"m_missing\" + str(missing_n))\n",
    "                case \"lncRNA\":\n",
    "                    lncrna_n += 1\n",
    "                    gene_symbols.append(\"m_lncRNA\" + str(lncrna_n))\n",
    "                case \"transcribed_unprocessed_pseudogene\":\n",
    "                    tup_n += 1\n",
    "                    gene_symbols.append(\"m_TUP\" + str(tup_n))\n",
    "                case \"transcribed_processed_pseudogene\":\n",
    "                    tpp_n += 1\n",
    "                    gene_symbols.append(\"m_TPP\" + str(tpp_n))\n",
    "                case \"TEC\":\n",
    "                    tec_n += 1\n",
    "                    gene_symbols.append(\"m_TEC\" + str(tec_n))\n",
    "                case \"protein_coding\":\n",
    "                    protein_n += 1\n",
    "                    gene_symbols.append(\"m_protein\" + str(protein_n))\n",
    "                case \"transcribed_unitary_pseudogene\":\n",
    "                    tap_n += 1\n",
    "                    gene_symbols.append(\"m_TAP\" + str(tap_n))\n",
    "                case \"processed_pseudogene\":\n",
    "                    pp_n += 1\n",
    "                    gene_symbols.append(\"m_PP\" + str(pp_n))\n",
    "                case \"unprocessed_pseudogene\":\n",
    "                    up_n += 1\n",
    "                    gene_symbols.append(\"m_UP\" + str(up_n))\n",
    "                case \"IG_V_gene\":\n",
    "                    igv_n += 1\n",
    "                    gene_symbols.append(\"m_IGV\" + str(igv_n))\n",
    "                case \"IG_V_pseudogene\":\n",
    "                    igvp_n += 1\n",
    "                    gene_symbols.append(\"m_IGVP\" + str(igvp_n))\n",
    "                case \"artifact\":\n",
    "                    art_n += 1\n",
    "                    gene_symbols.append(\"m_artifact\" + str(art_n))\n",
    "                case _:\n",
    "                    raise Exception(\"Unhandled gene type: \" + gene_type)\n",
    "    return(gene_symbols)"
   ]
  },
  {
   "cell_type": "code",
   "execution_count": null,
   "id": "07199fa9-c4fe-4e66-b154-89b7b954b3bc",
   "metadata": {
    "jupyter": {
     "source_hidden": true
    }
   },
   "outputs": [],
   "source": [
    "## Snippet for finding gene types present in the data with missing symbols.\n",
    "# encountered_types = []\n",
    "# for gene_info in gene_info_list:\n",
    "#     if \"symbol\" in gene_info.keys():\n",
    "#         continue\n",
    "#     try:\n",
    "#         gene_type = gene_info[\"ensembl\"][\"type_of_gene\"]\n",
    "#     except KeyError:\n",
    "#         gene_type = \"missing\"\n",
    "#     except TypeError:\n",
    "#         gene_type = gene_info[\"ensembl\"][0][\"type_of_gene\"]\n",
    "#     if gene_type not in encountered_types:\n",
    "#         print(gene_type)\n",
    "#         encountered_types.append(gene_type)"
   ]
  },
  {
   "cell_type": "code",
   "execution_count": 5,
   "id": "eed506a4-b456-4bb1-b477-731748ca3a4b",
   "metadata": {
    "scrolled": true
   },
   "outputs": [
    {
     "name": "stdout",
     "output_type": "stream",
     "text": [
      "TSPAN6 Human symbol\n",
      "TSPAN6 Human symbol\n",
      "TSPAN6 Human symbol\n",
      "ENSMUSG00000051951 Mouse Gene Code\n",
      "ENSMUSG00000051951 Mouse Gene Code\n",
      "ENSMUSG00000051951 Mouse Gene Code\n",
      "ENSMUSG00000051951 Mouse Gene Code\n",
      "ENSG00000243485 Human Gene Code\n"
     ]
    }
   ],
   "source": [
    "# TODO: Write gene handling functions:\n",
    "## Mouse symbol\n",
    "## Mouse id\n",
    "## Canine id\n",
    "# Iterates through H5ads, finds format of gene ids, and handles each one based on its format.\n",
    "# Goal: make new vars columns with original id and human-converted id. \n",
    "for h5ad_path in h5ad_paths:\n",
    "    h5ad_path_strip = h5ad_path.replace(f\"{HAD_DIR}/\", \"\")\n",
    "    ad = sc.read_h5ad(h5ad_path)\n",
    "    # Skips datasets that have already been processed unless force flag set to True\n",
    "    if (\"human_symbol\" in ad.var.keys() and not force):\n",
    "        continue\n",
    "    if (\"gene_ids\" in ad.var.keys()):\n",
    "        test_gene = ad.var[\"gene_ids\"].iloc[0]\n",
    "    elif (\"SYMBOL\" in ad.var.keys()):\n",
    "        test_gene = ad.var[\"SYMBOL\"].iloc[0]\n",
    "    else:\n",
    "        print(h5ad_path, \"Gene ID key not found in vars.\")\n",
    "    gene_id = test_gene[0:4]\n",
    "    # Detects gene symbols and splits into human or mouse symbols\n",
    "    if (gene_id[0:3]!=\"ENS\"):\n",
    "        # Check for lowercase characters anywhere in the test gene\n",
    "        if any([c for c in test_gene if c.islower()]):\n",
    "            gene_id = \"MMUS\"\n",
    "        else:\n",
    "            gene_id = \"HSAS\"\n",
    "    match gene_id:\n",
    "        case \"ENSG\":\n",
    "            continue\n",
    "            ad = handle_human_codes(ad)\n",
    "            gene_type = \"human codes\"\n",
    "        case \"ENSM\":\n",
    "            continue\n",
    "            ad = handle_mouse_codes(ad)\n",
    "            gene_type = \"mouse codes\"\n",
    "            # Handle mouse gene\n",
    "        case \"ENSC\":\n",
    "            continue\n",
    "            ad = handle_canine_codes(ad)\n",
    "            gene_type = \"canine codes\"\n",
    "            # Handle canine gene -- TODO: Implement...\n",
    "        case \"MMUS\":\n",
    "            # continue\n",
    "            ad = handle_mouse_symbols(ad)\n",
    "            gene_type = \"mouse symbols\"\n",
    "            # Handle mouse symbol\n",
    "        case \"HSAS\":\n",
    "            continue\n",
    "            ad = handle_human_symbols(ad)\n",
    "            gene_type = \"human symbols\"\n",
    "        # Flags unhandled genes\n",
    "        case _:\n",
    "            raise Exception(f\"Unhandled gene symbol: {gene_id} from {test_gene}.\")\n",
    "    ad.write_h5ad(h5ad_path)\n",
    "    print(f\"Standardized: {h5ad_path}\")\n",
    "    print(f\"    Original format: {gene_type}\")"
   ]
  },
  {
   "cell_type": "code",
   "execution_count": null,
   "id": "a401a1dc-b8c4-490c-9abe-b96409d668f8",
   "metadata": {},
   "outputs": [],
   "source": []
  }
 ],
 "metadata": {
  "kernelspec": {
   "display_name": "spatialstem-py311",
   "language": "python",
   "name": "spatialstem-py311"
  },
  "language_info": {
   "codemirror_mode": {
    "name": "ipython",
    "version": 3
   },
   "file_extension": ".py",
   "mimetype": "text/x-python",
   "name": "python",
   "nbconvert_exporter": "python",
   "pygments_lexer": "ipython3",
   "version": "3.11.8"
  }
 },
 "nbformat": 4,
 "nbformat_minor": 5
}
